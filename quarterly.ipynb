{
  "nbformat": 4,
  "nbformat_minor": 0,
  "metadata": {
    "colab": {
      "name": "quarterly",
      "provenance": [],
      "collapsed_sections": [],
      "toc_visible": true,
      "authorship_tag": "ABX9TyNKt6wbRNvyE+Slu28aKkap",
      "include_colab_link": true
    },
    "kernelspec": {
      "name": "python3",
      "display_name": "Python 3"
    }
  },
  "cells": [
    {
      "cell_type": "markdown",
      "metadata": {
        "id": "view-in-github",
        "colab_type": "text"
      },
      "source": [
        "<a href=\"https://colab.research.google.com/github/ArjavMehta01/Truist-Credit_Risk_SAS/blob/Nishang/quarterly.ipynb\" target=\"_parent\"><img src=\"https://colab.research.google.com/assets/colab-badge.svg\" alt=\"Open In Colab\"/></a>"
      ]
    },
    {
      "cell_type": "markdown",
      "metadata": {
        "id": "T2t6ZE38aCJu",
        "colab_type": "text"
      },
      "source": [
        "Control m m will convert a code cell to a text cell. Control m y will convert a text cell to a code cell."
      ]
    },
    {
      "cell_type": "code",
      "metadata": {
        "id": "FHG7JLVW8JcN",
        "colab_type": "code",
        "colab": {
          "base_uri": "https://localhost:8080/",
          "height": 70
        },
        "outputId": "461f1ca2-d28d-4340-96a8-d98df0256639"
      },
      "source": [
        "import pandas as pd\n",
        "import numpy as np\n",
        "import matplotlib.pyplot as plt\n",
        "import seaborn as sns\n",
        "import matplotlib.dates as mdate\n"
      ],
      "execution_count": 1,
      "outputs": [
        {
          "output_type": "stream",
          "text": [
            "/usr/local/lib/python3.6/dist-packages/statsmodels/tools/_testing.py:19: FutureWarning: pandas.util.testing is deprecated. Use the functions in the public API at pandas.testing instead.\n",
            "  import pandas.util.testing as tm\n"
          ],
          "name": "stderr"
        }
      ]
    },
    {
      "cell_type": "markdown",
      "metadata": {
        "id": "ccDCHqU4XcX4",
        "colab_type": "text"
      },
      "source": [
        "# Create 6 dates \n",
        "##df = pd.DataFrame() \n",
        "np.random.seed(23)\n",
        "df = pd.DataFrame({'variable': np.random.random_integers(low=1,high=10,size=6),'Cur_stat': ['a', 'a', 'b','a','b','b'], 'Next_stat': [ 'a','b','b','b','c','c'], 'Loan_id': [1, 1, 1,2,2,2]})\n",
        "df['time'] = pd.date_range('8/1/2019', periods = 3, freq ='M').append(pd.date_range('8/1/2019', periods = 3, freq ='M') )\n",
        "df.iloc[3,0]=3\n",
        "print(df)\n",
        "##df.nunique()\n"
      ]
    },
    {
      "cell_type": "markdown",
      "metadata": {
        "id": "FvUgUU4DehUV",
        "colab_type": "text"
      },
      "source": [
        "# cur dataset\n",
        "cur = df[df['Cur_stat']==\"a\"]\n",
        "def c_p(n_s):\n",
        "  if n_s==\"b\": return 1\n",
        "  else: return 0 \n",
        "cur['p']= cur.apply(lambda x: c_p(cur['Next_stat']),axis=1)\n",
        "cur['flag']= cur['Next_stat'].apply(lambda x: x>5)\n",
        "print(cur)"
      ]
    },
    {
      "cell_type": "markdown",
      "metadata": {
        "id": "-BSVAurrQCQP",
        "colab_type": "text"
      },
      "source": [
        "\n",
        "sns.set()  # use Seaborn styles\n",
        "cur.pivot_table('p', index='time', columns='flag', aggfunc='average').plot()\n",
        "plt.ylabel('Probability of Default');"
      ]
    },
    {
      "cell_type": "markdown",
      "metadata": {
        "id": "e5Prdl1uYFgH",
        "colab_type": "text"
      },
      "source": [
        "#jumbo\n",
        "mask = cur['variable'] >= 5\n",
        "jumbo = cur[mask]\n",
        "nonjumbo = cur[~mask]\n",
        "j_plot =jumbo.groupby(['time','Next_stat']).size().unstack()\n",
        "n_plot =nonjumbo.groupby(['time','Next_stat']).size().unstack()\n",
        "j_plot=j_plot.replace(np.nan,0)\n",
        "print(j_plot)\n",
        "print(n_plot)"
      ]
    },
    {
      "cell_type": "markdown",
      "metadata": {
        "id": "eXLBZTST8a0G",
        "colab_type": "text"
      },
      "source": [
        "j_plot['d_rate']= j_plot['b']/(j_plot['a']+j_plot['b'])\n",
        "\n",
        "print(j_plot)\n",
        "#n_plot['d_rate']= n_plot['b']/(n_plot['a']+n_plot['b'])\n",
        "#print(n_plot)"
      ]
    },
    {
      "cell_type": "markdown",
      "metadata": {
        "id": "aw6MbBKL99L4",
        "colab_type": "text"
      },
      "source": [
        "plt.plot( 'time', 'd_rate', data=j_plot, marker='', color='olive', linewidth=2, linestyle='dashed', label=\"jumbo\")\n",
        "plt.legend()\n"
      ]
    },
    {
      "cell_type": "markdown",
      "metadata": {
        "id": "jcaEU-wqX0Bp",
        "colab_type": "text"
      },
      "source": [
        "#df.nunique(1)"
      ]
    },
    {
      "cell_type": "code",
      "metadata": {
        "id": "udjVHj60VJYN",
        "colab_type": "code",
        "colab": {
          "base_uri": "https://localhost:8080/",
          "height": 121
        },
        "outputId": "25355c81-7f9b-44f9-ad66-3de6e5230ec5"
      },
      "source": [
        "from google.colab import drive\n",
        "drive.mount('/content/drive')"
      ],
      "execution_count": 2,
      "outputs": [
        {
          "output_type": "stream",
          "text": [
            "Go to this URL in a browser: https://accounts.google.com/o/oauth2/auth?client_id=947318989803-6bn6qk8qdgf4n4g3pfee6491hc0brc4i.apps.googleusercontent.com&redirect_uri=urn%3aietf%3awg%3aoauth%3a2.0%3aoob&response_type=code&scope=email%20https%3a%2f%2fwww.googleapis.com%2fauth%2fdocs.test%20https%3a%2f%2fwww.googleapis.com%2fauth%2fdrive%20https%3a%2f%2fwww.googleapis.com%2fauth%2fdrive.photos.readonly%20https%3a%2f%2fwww.googleapis.com%2fauth%2fpeopleapi.readonly\n",
            "\n",
            "Enter your authorization code:\n",
            "··········\n",
            "Mounted at /content/drive\n"
          ],
          "name": "stdout"
        }
      ]
    },
    {
      "cell_type": "code",
      "metadata": {
        "id": "kTXHA_g55GOE",
        "colab_type": "code",
        "colab": {}
      },
      "source": [
        "cur = pd.read_csv('/content/drive/My Drive/summer project/Copy of cur.csv')\n"
      ],
      "execution_count": 17,
      "outputs": []
    },
    {
      "cell_type": "code",
      "metadata": {
        "id": "EVKID90qOpJg",
        "colab_type": "code",
        "colab": {
          "base_uri": "https://localhost:8080/",
          "height": 299
        },
        "outputId": "c16a2e4d-914c-4625-a285-18b094b2cf81"
      },
      "source": [
        "cur['Act_date']= pd.to_datetime(cur['Act_date']) \n",
        "cur.head()"
      ],
      "execution_count": 36,
      "outputs": [
        {
          "output_type": "execute_result",
          "data": {
            "text/html": [
              "<div>\n",
              "<style scoped>\n",
              "    .dataframe tbody tr th:only-of-type {\n",
              "        vertical-align: middle;\n",
              "    }\n",
              "\n",
              "    .dataframe tbody tr th {\n",
              "        vertical-align: top;\n",
              "    }\n",
              "\n",
              "    .dataframe thead th {\n",
              "        text-align: right;\n",
              "    }\n",
              "</style>\n",
              "<table border=\"1\" class=\"dataframe\">\n",
              "  <thead>\n",
              "    <tr style=\"text-align: right;\">\n",
              "      <th></th>\n",
              "      <th>Loan_id</th>\n",
              "      <th>Orig_amt</th>\n",
              "      <th>Orig_dte</th>\n",
              "      <th>Oltv</th>\n",
              "      <th>Dti</th>\n",
              "      <th>Cscore_b</th>\n",
              "      <th>Act_date</th>\n",
              "      <th>Curr_rte</th>\n",
              "      <th>Act_upb</th>\n",
              "      <th>Loan_age</th>\n",
              "      <th>Curr_stat</th>\n",
              "      <th>Next_stat</th>\n",
              "      <th>Final_stat</th>\n",
              "      <th>fico</th>\n",
              "      <th>orig_hpi</th>\n",
              "      <th>Rate</th>\n",
              "      <th>Rate_MDT</th>\n",
              "      <th>TNF_MDT</th>\n",
              "      <th>GDP</th>\n",
              "      <th>GDP_MDT</th>\n",
              "      <th>HS</th>\n",
              "      <th>HS_MDT</th>\n",
              "      <th>UMP</th>\n",
              "      <th>UMP_MDT</th>\n",
              "      <th>PPI</th>\n",
              "      <th>PPI_MDT</th>\n",
              "      <th>Permits</th>\n",
              "      <th>HOP_MDT</th>\n",
              "      <th>Payroll</th>\n",
              "      <th>HPI</th>\n",
              "      <th>CLTV</th>\n",
              "    </tr>\n",
              "  </thead>\n",
              "  <tbody>\n",
              "    <tr>\n",
              "      <th>0</th>\n",
              "      <td>196441277123</td>\n",
              "      <td>336000</td>\n",
              "      <td>01/01/06</td>\n",
              "      <td>56</td>\n",
              "      <td>37.0</td>\n",
              "      <td>661.0</td>\n",
              "      <td>2006-01-01</td>\n",
              "      <td>6.60</td>\n",
              "      <td>NaN</td>\n",
              "      <td>-1</td>\n",
              "      <td>CUR</td>\n",
              "      <td>CUR</td>\n",
              "      <td>PPY</td>\n",
              "      <td>Sub-Prime</td>\n",
              "      <td>182.325</td>\n",
              "      <td>6.145</td>\n",
              "      <td>-0.058</td>\n",
              "      <td>156</td>\n",
              "      <td>13603.933</td>\n",
              "      <td>0.0</td>\n",
              "      <td>2273</td>\n",
              "      <td>-153</td>\n",
              "      <td>4.7</td>\n",
              "      <td>-0.1</td>\n",
              "      <td>164.3</td>\n",
              "      <td>-0.7</td>\n",
              "      <td>2212</td>\n",
              "      <td>-98</td>\n",
              "      <td>135429</td>\n",
              "      <td>182.325</td>\n",
              "      <td>56.0</td>\n",
              "    </tr>\n",
              "    <tr>\n",
              "      <th>1</th>\n",
              "      <td>205685348267</td>\n",
              "      <td>203000</td>\n",
              "      <td>01/01/06</td>\n",
              "      <td>78</td>\n",
              "      <td>54.0</td>\n",
              "      <td>807.0</td>\n",
              "      <td>2006-01-01</td>\n",
              "      <td>6.65</td>\n",
              "      <td>NaN</td>\n",
              "      <td>-1</td>\n",
              "      <td>CUR</td>\n",
              "      <td>CUR</td>\n",
              "      <td>SDQ</td>\n",
              "      <td>Prime</td>\n",
              "      <td>182.325</td>\n",
              "      <td>6.145</td>\n",
              "      <td>-0.058</td>\n",
              "      <td>156</td>\n",
              "      <td>13603.933</td>\n",
              "      <td>0.0</td>\n",
              "      <td>2273</td>\n",
              "      <td>-153</td>\n",
              "      <td>4.7</td>\n",
              "      <td>-0.1</td>\n",
              "      <td>164.3</td>\n",
              "      <td>-0.7</td>\n",
              "      <td>2212</td>\n",
              "      <td>-98</td>\n",
              "      <td>135429</td>\n",
              "      <td>182.325</td>\n",
              "      <td>78.0</td>\n",
              "    </tr>\n",
              "    <tr>\n",
              "      <th>2</th>\n",
              "      <td>225804687634</td>\n",
              "      <td>63000</td>\n",
              "      <td>01/01/06</td>\n",
              "      <td>15</td>\n",
              "      <td>25.0</td>\n",
              "      <td>809.0</td>\n",
              "      <td>2006-01-01</td>\n",
              "      <td>6.85</td>\n",
              "      <td>NaN</td>\n",
              "      <td>0</td>\n",
              "      <td>CUR</td>\n",
              "      <td>CUR</td>\n",
              "      <td>PPY</td>\n",
              "      <td>Prime</td>\n",
              "      <td>182.325</td>\n",
              "      <td>6.145</td>\n",
              "      <td>-0.058</td>\n",
              "      <td>156</td>\n",
              "      <td>13603.933</td>\n",
              "      <td>0.0</td>\n",
              "      <td>2273</td>\n",
              "      <td>-153</td>\n",
              "      <td>4.7</td>\n",
              "      <td>-0.1</td>\n",
              "      <td>164.3</td>\n",
              "      <td>-0.7</td>\n",
              "      <td>2212</td>\n",
              "      <td>-98</td>\n",
              "      <td>135429</td>\n",
              "      <td>182.325</td>\n",
              "      <td>15.0</td>\n",
              "    </tr>\n",
              "    <tr>\n",
              "      <th>3</th>\n",
              "      <td>330090408408</td>\n",
              "      <td>417000</td>\n",
              "      <td>01/01/06</td>\n",
              "      <td>70</td>\n",
              "      <td>39.0</td>\n",
              "      <td>654.0</td>\n",
              "      <td>2006-01-01</td>\n",
              "      <td>6.60</td>\n",
              "      <td>NaN</td>\n",
              "      <td>-1</td>\n",
              "      <td>CUR</td>\n",
              "      <td>CUR</td>\n",
              "      <td>SDQ</td>\n",
              "      <td>Sub-Prime</td>\n",
              "      <td>182.325</td>\n",
              "      <td>6.145</td>\n",
              "      <td>-0.058</td>\n",
              "      <td>156</td>\n",
              "      <td>13603.933</td>\n",
              "      <td>0.0</td>\n",
              "      <td>2273</td>\n",
              "      <td>-153</td>\n",
              "      <td>4.7</td>\n",
              "      <td>-0.1</td>\n",
              "      <td>164.3</td>\n",
              "      <td>-0.7</td>\n",
              "      <td>2212</td>\n",
              "      <td>-98</td>\n",
              "      <td>135429</td>\n",
              "      <td>182.325</td>\n",
              "      <td>70.0</td>\n",
              "    </tr>\n",
              "    <tr>\n",
              "      <th>4</th>\n",
              "      <td>462713800974</td>\n",
              "      <td>50000</td>\n",
              "      <td>01/01/06</td>\n",
              "      <td>8</td>\n",
              "      <td>45.0</td>\n",
              "      <td>795.0</td>\n",
              "      <td>2006-01-01</td>\n",
              "      <td>6.65</td>\n",
              "      <td>NaN</td>\n",
              "      <td>-1</td>\n",
              "      <td>CUR</td>\n",
              "      <td>CUR</td>\n",
              "      <td>CUR</td>\n",
              "      <td>Prime</td>\n",
              "      <td>182.325</td>\n",
              "      <td>6.145</td>\n",
              "      <td>-0.058</td>\n",
              "      <td>156</td>\n",
              "      <td>13603.933</td>\n",
              "      <td>0.0</td>\n",
              "      <td>2273</td>\n",
              "      <td>-153</td>\n",
              "      <td>4.7</td>\n",
              "      <td>-0.1</td>\n",
              "      <td>164.3</td>\n",
              "      <td>-0.7</td>\n",
              "      <td>2212</td>\n",
              "      <td>-98</td>\n",
              "      <td>135429</td>\n",
              "      <td>182.325</td>\n",
              "      <td>8.0</td>\n",
              "    </tr>\n",
              "  </tbody>\n",
              "</table>\n",
              "</div>"
            ],
            "text/plain": [
              "        Loan_id  Orig_amt  Orig_dte  Oltv  ...  HOP_MDT  Payroll      HPI  CLTV\n",
              "0  196441277123    336000  01/01/06    56  ...      -98   135429  182.325  56.0\n",
              "1  205685348267    203000  01/01/06    78  ...      -98   135429  182.325  78.0\n",
              "2  225804687634     63000  01/01/06    15  ...      -98   135429  182.325  15.0\n",
              "3  330090408408    417000  01/01/06    70  ...      -98   135429  182.325  70.0\n",
              "4  462713800974     50000  01/01/06     8  ...      -98   135429  182.325   8.0\n",
              "\n",
              "[5 rows x 31 columns]"
            ]
          },
          "metadata": {
            "tags": []
          },
          "execution_count": 36
        }
      ]
    },
    {
      "cell_type": "code",
      "metadata": {
        "id": "CR6VIBj9X6jO",
        "colab_type": "code",
        "colab": {
          "base_uri": "https://localhost:8080/",
          "height": 299
        },
        "outputId": "0ec186ec-d2d1-432f-cbec-b4fbf0a1676b"
      },
      "source": [
        "de = pd.read_csv('/content/drive/My Drive/summer project/Copy of del.csv')\n",
        "de['Act_date']= pd.to_datetime(de['Act_date'],format= '%m/%d/%y') \n",
        "de.head()"
      ],
      "execution_count": 37,
      "outputs": [
        {
          "output_type": "execute_result",
          "data": {
            "text/html": [
              "<div>\n",
              "<style scoped>\n",
              "    .dataframe tbody tr th:only-of-type {\n",
              "        vertical-align: middle;\n",
              "    }\n",
              "\n",
              "    .dataframe tbody tr th {\n",
              "        vertical-align: top;\n",
              "    }\n",
              "\n",
              "    .dataframe thead th {\n",
              "        text-align: right;\n",
              "    }\n",
              "</style>\n",
              "<table border=\"1\" class=\"dataframe\">\n",
              "  <thead>\n",
              "    <tr style=\"text-align: right;\">\n",
              "      <th></th>\n",
              "      <th>Loan_id</th>\n",
              "      <th>Orig_amt</th>\n",
              "      <th>Orig_dte</th>\n",
              "      <th>Oltv</th>\n",
              "      <th>Dti</th>\n",
              "      <th>Cscore_b</th>\n",
              "      <th>Act_date</th>\n",
              "      <th>Curr_rte</th>\n",
              "      <th>Act_upb</th>\n",
              "      <th>Loan_age</th>\n",
              "      <th>Curr_stat</th>\n",
              "      <th>Next_stat</th>\n",
              "      <th>Final_stat</th>\n",
              "      <th>fico</th>\n",
              "      <th>orig_hpi</th>\n",
              "      <th>Rate</th>\n",
              "      <th>Rate_MDT</th>\n",
              "      <th>TNF_MDT</th>\n",
              "      <th>GDP</th>\n",
              "      <th>GDP_MDT</th>\n",
              "      <th>HS</th>\n",
              "      <th>HS_MDT</th>\n",
              "      <th>UMP</th>\n",
              "      <th>UMP_MDT</th>\n",
              "      <th>PPI</th>\n",
              "      <th>PPI_MDT</th>\n",
              "      <th>Permits</th>\n",
              "      <th>HOP_MDT</th>\n",
              "      <th>Payroll</th>\n",
              "      <th>HPI</th>\n",
              "      <th>CLTV</th>\n",
              "    </tr>\n",
              "  </thead>\n",
              "  <tbody>\n",
              "    <tr>\n",
              "      <th>0</th>\n",
              "      <td>554812224181</td>\n",
              "      <td>188000</td>\n",
              "      <td>01/01/06</td>\n",
              "      <td>36</td>\n",
              "      <td>31.0</td>\n",
              "      <td>678.0</td>\n",
              "      <td>2006-03-01</td>\n",
              "      <td>6.125</td>\n",
              "      <td>NaN</td>\n",
              "      <td>1</td>\n",
              "      <td>DEL</td>\n",
              "      <td>CUR</td>\n",
              "      <td>PPY</td>\n",
              "      <td>Prime</td>\n",
              "      <td>182.325</td>\n",
              "      <td>6.3240</td>\n",
              "      <td>0.1075</td>\n",
              "      <td>308</td>\n",
              "      <td>13603.933</td>\n",
              "      <td>0.000</td>\n",
              "      <td>1969</td>\n",
              "      <td>-154</td>\n",
              "      <td>4.7</td>\n",
              "      <td>0.1</td>\n",
              "      <td>162.2</td>\n",
              "      <td>-2.5</td>\n",
              "      <td>2118</td>\n",
              "      <td>-71</td>\n",
              "      <td>136047</td>\n",
              "      <td>184.370</td>\n",
              "      <td>36.000000</td>\n",
              "    </tr>\n",
              "    <tr>\n",
              "      <th>1</th>\n",
              "      <td>183620939044</td>\n",
              "      <td>80000</td>\n",
              "      <td>01/01/06</td>\n",
              "      <td>62</td>\n",
              "      <td>31.0</td>\n",
              "      <td>641.0</td>\n",
              "      <td>2006-05-01</td>\n",
              "      <td>6.750</td>\n",
              "      <td>NaN</td>\n",
              "      <td>3</td>\n",
              "      <td>DEL</td>\n",
              "      <td>DEL</td>\n",
              "      <td>DEL</td>\n",
              "      <td>Sub-Prime</td>\n",
              "      <td>182.325</td>\n",
              "      <td>6.5975</td>\n",
              "      <td>0.1835</td>\n",
              "      <td>158</td>\n",
              "      <td>13749.806</td>\n",
              "      <td>145.873</td>\n",
              "      <td>1942</td>\n",
              "      <td>-148</td>\n",
              "      <td>4.6</td>\n",
              "      <td>0.0</td>\n",
              "      <td>165.8</td>\n",
              "      <td>2.1</td>\n",
              "      <td>1905</td>\n",
              "      <td>-120</td>\n",
              "      <td>136244</td>\n",
              "      <td>184.158</td>\n",
              "      <td>62.000000</td>\n",
              "    </tr>\n",
              "    <tr>\n",
              "      <th>2</th>\n",
              "      <td>953619041053</td>\n",
              "      <td>216000</td>\n",
              "      <td>02/01/06</td>\n",
              "      <td>80</td>\n",
              "      <td>31.0</td>\n",
              "      <td>709.0</td>\n",
              "      <td>2006-06-01</td>\n",
              "      <td>6.125</td>\n",
              "      <td>NaN</td>\n",
              "      <td>3</td>\n",
              "      <td>DEL</td>\n",
              "      <td>CUR</td>\n",
              "      <td>PPY</td>\n",
              "      <td>Prime</td>\n",
              "      <td>183.292</td>\n",
              "      <td>6.6820</td>\n",
              "      <td>0.0900</td>\n",
              "      <td>39</td>\n",
              "      <td>13749.806</td>\n",
              "      <td>0.000</td>\n",
              "      <td>1802</td>\n",
              "      <td>121</td>\n",
              "      <td>4.6</td>\n",
              "      <td>-0.1</td>\n",
              "      <td>166.1</td>\n",
              "      <td>1.5</td>\n",
              "      <td>1867</td>\n",
              "      <td>-93</td>\n",
              "      <td>136325</td>\n",
              "      <td>183.511</td>\n",
              "      <td>80.000000</td>\n",
              "    </tr>\n",
              "    <tr>\n",
              "      <th>3</th>\n",
              "      <td>183620939044</td>\n",
              "      <td>80000</td>\n",
              "      <td>01/01/06</td>\n",
              "      <td>62</td>\n",
              "      <td>31.0</td>\n",
              "      <td>641.0</td>\n",
              "      <td>2006-08-01</td>\n",
              "      <td>6.750</td>\n",
              "      <td>79605.91</td>\n",
              "      <td>6</td>\n",
              "      <td>DEL</td>\n",
              "      <td>DEL</td>\n",
              "      <td>DEL</td>\n",
              "      <td>Sub-Prime</td>\n",
              "      <td>182.325</td>\n",
              "      <td>6.5240</td>\n",
              "      <td>0.0805</td>\n",
              "      <td>195</td>\n",
              "      <td>13867.469</td>\n",
              "      <td>117.663</td>\n",
              "      <td>1650</td>\n",
              "      <td>-65</td>\n",
              "      <td>4.7</td>\n",
              "      <td>0.1</td>\n",
              "      <td>167.9</td>\n",
              "      <td>0.7</td>\n",
              "      <td>1722</td>\n",
              "      <td>-104</td>\n",
              "      <td>136694</td>\n",
              "      <td>182.602</td>\n",
              "      <td>61.600992</td>\n",
              "    </tr>\n",
              "    <tr>\n",
              "      <th>4</th>\n",
              "      <td>450195474318</td>\n",
              "      <td>398000</td>\n",
              "      <td>01/01/06</td>\n",
              "      <td>80</td>\n",
              "      <td>51.0</td>\n",
              "      <td>768.0</td>\n",
              "      <td>2006-08-01</td>\n",
              "      <td>5.750</td>\n",
              "      <td>392316.45</td>\n",
              "      <td>6</td>\n",
              "      <td>DEL</td>\n",
              "      <td>CUR</td>\n",
              "      <td>PPY</td>\n",
              "      <td>Prime</td>\n",
              "      <td>182.325</td>\n",
              "      <td>6.5240</td>\n",
              "      <td>0.0805</td>\n",
              "      <td>195</td>\n",
              "      <td>13867.469</td>\n",
              "      <td>117.663</td>\n",
              "      <td>1650</td>\n",
              "      <td>-65</td>\n",
              "      <td>4.7</td>\n",
              "      <td>0.1</td>\n",
              "      <td>167.9</td>\n",
              "      <td>0.7</td>\n",
              "      <td>1722</td>\n",
              "      <td>-104</td>\n",
              "      <td>136694</td>\n",
              "      <td>182.602</td>\n",
              "      <td>78.737954</td>\n",
              "    </tr>\n",
              "  </tbody>\n",
              "</table>\n",
              "</div>"
            ],
            "text/plain": [
              "        Loan_id  Orig_amt  Orig_dte  Oltv  ...  HOP_MDT  Payroll      HPI       CLTV\n",
              "0  554812224181    188000  01/01/06    36  ...      -71   136047  184.370  36.000000\n",
              "1  183620939044     80000  01/01/06    62  ...     -120   136244  184.158  62.000000\n",
              "2  953619041053    216000  02/01/06    80  ...      -93   136325  183.511  80.000000\n",
              "3  183620939044     80000  01/01/06    62  ...     -104   136694  182.602  61.600992\n",
              "4  450195474318    398000  01/01/06    80  ...     -104   136694  182.602  78.737954\n",
              "\n",
              "[5 rows x 31 columns]"
            ]
          },
          "metadata": {
            "tags": []
          },
          "execution_count": 37
        }
      ]
    },
    {
      "cell_type": "code",
      "metadata": {
        "id": "jIpTcwvRXHMG",
        "colab_type": "code",
        "colab": {
          "base_uri": "https://localhost:8080/",
          "height": 459
        },
        "outputId": "e65eca99-f476-405d-9256-83e66c038a98"
      },
      "source": [
        "x = cur['Orig_amt']\n",
        "print(x.describe())\n",
        "sns.distplot(x)\n"
      ],
      "execution_count": 6,
      "outputs": [
        {
          "output_type": "stream",
          "text": [
            "count    2.995198e+06\n",
            "mean     2.220892e+05\n",
            "std      1.194941e+05\n",
            "min      1.000000e+04\n",
            "25%      1.320000e+05\n",
            "50%      1.980000e+05\n",
            "75%      2.920000e+05\n",
            "max      1.250000e+06\n",
            "Name: Orig_amt, dtype: float64\n"
          ],
          "name": "stdout"
        },
        {
          "output_type": "execute_result",
          "data": {
            "text/plain": [
              "<matplotlib.axes._subplots.AxesSubplot at 0x7f72e7244b38>"
            ]
          },
          "metadata": {
            "tags": []
          },
          "execution_count": 6
        },
        {
          "output_type": "display_data",
          "data": {
            "image/png": "[encoded data removed]",
            "text/plain": [
              "<Figure size 432x288 with 1 Axes>"
            ]
          },
          "metadata": {
            "tags": [],
            "needs_background": "light"
          }
        }
      ]
    },
    {
      "cell_type": "code",
      "metadata": {
        "colab_type": "code",
        "id": "Vz-hXZj3Z-1g",
        "colab": {
          "base_uri": "https://localhost:8080/",
          "height": 459
        },
        "outputId": "3a348219-e07a-48b7-f930-1bdd0e78574a"
      },
      "source": [
        "x2 = de['Orig_amt']\n",
        "print(x2.describe())\n",
        "sns.distplot(x2)\n"
      ],
      "execution_count": 7,
      "outputs": [
        {
          "output_type": "stream",
          "text": [
            "count     16244.000000\n",
            "mean     202314.454568\n",
            "std      106390.037025\n",
            "min       12000.000000\n",
            "25%      123000.000000\n",
            "50%      182000.000000\n",
            "75%      264000.000000\n",
            "max      730000.000000\n",
            "Name: Orig_amt, dtype: float64\n"
          ],
          "name": "stdout"
        },
        {
          "output_type": "execute_result",
          "data": {
            "text/plain": [
              "<matplotlib.axes._subplots.AxesSubplot at 0x7f72e704f208>"
            ]
          },
          "metadata": {
            "tags": []
          },
          "execution_count": 7
        },
        {
          "output_type": "display_data",
          "data": {
            "image/png": "[encoded data removed]",
            "text/plain": [
              "<Figure size 432x288 with 1 Axes>"
            ]
          },
          "metadata": {
            "tags": [],
            "needs_background": "light"
          }
        }
      ]
    },
    {
      "cell_type": "code",
      "metadata": {
        "id": "dzmXzIWHbbKy",
        "colab_type": "code",
        "colab": {}
      },
      "source": [
        "Next_stat =cur.Next_stat\n",
        "Next_stat2 =de.Next_stat"
      ],
      "execution_count": 38,
      "outputs": []
    },
    {
      "cell_type": "code",
      "metadata": {
        "id": "E1ieHm-5PNir",
        "colab_type": "code",
        "cellView": "code",
        "colab": {
          "base_uri": "https://localhost:8080/",
          "height": 487
        },
        "outputId": "31be4296-17be-4977-c068-9aaf2113439f"
      },
      "source": [
        "# use p,P2 to calculate the P(DEL),P(SDQ)\n",
        "cur['p']= Next_stat.apply(lambda x: x==\"DEL\")\n",
        "print(cur,'/n')\n",
        "cur['p'] = cur['p']*1\n",
        "print(cur)"
      ],
      "execution_count": 39,
      "outputs": [
        {
          "output_type": "stream",
          "text": [
            "              Loan_id  Orig_amt  Orig_dte  ...      HPI       CLTV      p\n",
            "0        196441277123    336000  01/01/06  ...  182.325  56.000000  False\n",
            "1        205685348267    203000  01/01/06  ...  182.325  78.000000  False\n",
            "2        225804687634     63000  01/01/06  ...  182.325  15.000000  False\n",
            "3        330090408408    417000  01/01/06  ...  182.325  70.000000  False\n",
            "4        462713800974     50000  01/01/06  ...  182.325   8.000000  False\n",
            "...               ...       ...       ...  ...      ...        ...    ...\n",
            "2995193  996476110253    143000  10/01/17  ...  212.663  83.785332  False\n",
            "2995194  996610201482    290000  10/01/17  ...  212.663  58.160240  False\n",
            "2995195  996705370944     85000  10/01/17  ...  212.663  48.872424  False\n",
            "2995196  997162388869    255000  10/01/17  ...  212.663  66.304642  False\n",
            "2995197  999388385243    424000  10/01/17  ...  212.663  82.990947  False\n",
            "\n",
            "[2995198 rows x 32 columns] /n\n",
            "              Loan_id  Orig_amt  Orig_dte  Oltv  ...  Payroll      HPI       CLTV  p\n",
            "0        196441277123    336000  01/01/06    56  ...   135429  182.325  56.000000  0\n",
            "1        205685348267    203000  01/01/06    78  ...   135429  182.325  78.000000  0\n",
            "2        225804687634     63000  01/01/06    15  ...   135429  182.325  15.000000  0\n",
            "3        330090408408    417000  01/01/06    70  ...   135429  182.325  70.000000  0\n",
            "4        462713800974     50000  01/01/06     8  ...   135429  182.325   8.000000  0\n",
            "...               ...       ...       ...   ...  ...      ...      ...        ... ..\n",
            "2995193  996476110253    143000  10/01/17    95  ...   151814  212.663  83.785332  0\n",
            "2995194  996610201482    290000  10/01/17    66  ...   151814  212.663  58.160240  0\n",
            "2995195  996705370944     85000  10/01/17    61  ...   151814  212.663  48.872424  0\n",
            "2995196  997162388869    255000  10/01/17    75  ...   151814  212.663  66.304642  0\n",
            "2995197  999388385243    424000  10/01/17    94  ...   151814  212.663  82.990947  0\n",
            "\n",
            "[2995198 rows x 32 columns]\n"
          ],
          "name": "stdout"
        }
      ]
    },
    {
      "cell_type": "code",
      "metadata": {
        "id": "djFeM-w8anWb",
        "colab_type": "code",
        "colab": {
          "base_uri": "https://localhost:8080/",
          "height": 487
        },
        "outputId": "4f8ab114-8140-4ef9-ffe6-e67a4cd8b00b"
      },
      "source": [
        "de['p2']= Next_stat2.apply(lambda x: x==\"SDQ\")\n",
        "print(de,'/n')\n",
        "de['p2'] = de['p2']*1\n",
        "print(de)"
      ],
      "execution_count": 40,
      "outputs": [
        {
          "output_type": "stream",
          "text": [
            "            Loan_id  Orig_amt  Orig_dte  ...      HPI       CLTV     p2\n",
            "0      554812224181    188000  01/01/06  ...  184.370  36.000000  False\n",
            "1      183620939044     80000  01/01/06  ...  184.158  62.000000  False\n",
            "2      953619041053    216000  02/01/06  ...  183.511  80.000000  False\n",
            "3      183620939044     80000  01/01/06  ...  182.602  61.600992  False\n",
            "4      450195474318    398000  01/01/06  ...  182.602  78.737954  False\n",
            "...             ...       ...       ...  ...      ...        ...    ...\n",
            "16239  878375158839    152000  10/01/17  ...  212.663  70.988773  False\n",
            "16240  943146056940    147000  10/01/17  ...  212.663  84.261635  False\n",
            "16241  947249179465    228000  10/01/17  ...  212.663  66.334200  False\n",
            "16242  958969196463    301000  10/01/17  ...  212.663  62.036175  False\n",
            "16243  994756141113    500000  10/01/17  ...  212.663  61.792775  False\n",
            "\n",
            "[16244 rows x 32 columns] /n\n",
            "            Loan_id  Orig_amt  Orig_dte  Oltv  ...  Payroll      HPI       CLTV  p2\n",
            "0      554812224181    188000  01/01/06    36  ...   136047  184.370  36.000000   0\n",
            "1      183620939044     80000  01/01/06    62  ...   136244  184.158  62.000000   0\n",
            "2      953619041053    216000  02/01/06    80  ...   136325  183.511  80.000000   0\n",
            "3      183620939044     80000  01/01/06    62  ...   136694  182.602  61.600992   0\n",
            "4      450195474318    398000  01/01/06    80  ...   136694  182.602  78.737954   0\n",
            "...             ...       ...       ...   ...  ...      ...      ...        ...  ..\n",
            "16239  878375158839    152000  10/01/17    80  ...   151814  212.663  70.988773   0\n",
            "16240  943146056940    147000  10/01/17    95  ...   151814  212.663  84.261635   0\n",
            "16241  947249179465    228000  10/01/17    75  ...   151814  212.663  66.334200   0\n",
            "16242  958969196463    301000  10/01/17    76  ...   151814  212.663  62.036175   0\n",
            "16243  994756141113    500000  10/01/17    70  ...   151814  212.663  61.792775   0\n",
            "\n",
            "[16244 rows x 32 columns]\n"
          ],
          "name": "stdout"
        }
      ]
    },
    {
      "cell_type": "code",
      "metadata": {
        "id": "5klnq87nalSW",
        "colab_type": "code",
        "colab": {
          "base_uri": "https://localhost:8080/",
          "height": 286
        },
        "outputId": "bcfdc539-1482-4adc-810b-b5668c648a23"
      },
      "source": [
        "cur['flag']= cur['Orig_amt'].apply(lambda x: x>510400)\n",
        "de['flag']= de['Orig_amt'].apply(lambda x: x>510400)\n",
        "print(cur.head(),'\\n',de.head())"
      ],
      "execution_count": 41,
      "outputs": [
        {
          "output_type": "stream",
          "text": [
            "        Loan_id  Orig_amt  Orig_dte  Oltv  ...      HPI  CLTV  p   flag\n",
            "0  196441277123    336000  01/01/06    56  ...  182.325  56.0  0  False\n",
            "1  205685348267    203000  01/01/06    78  ...  182.325  78.0  0  False\n",
            "2  225804687634     63000  01/01/06    15  ...  182.325  15.0  0  False\n",
            "3  330090408408    417000  01/01/06    70  ...  182.325  70.0  0  False\n",
            "4  462713800974     50000  01/01/06     8  ...  182.325   8.0  0  False\n",
            "\n",
            "[5 rows x 33 columns] \n",
            "         Loan_id  Orig_amt  Orig_dte  Oltv  ...      HPI       CLTV p2   flag\n",
            "0  554812224181    188000  01/01/06    36  ...  184.370  36.000000  0  False\n",
            "1  183620939044     80000  01/01/06    62  ...  184.158  62.000000  0  False\n",
            "2  953619041053    216000  02/01/06    80  ...  183.511  80.000000  0  False\n",
            "3  183620939044     80000  01/01/06    62  ...  182.602  61.600992  0  False\n",
            "4  450195474318    398000  01/01/06    80  ...  182.602  78.737954  0  False\n",
            "\n",
            "[5 rows x 33 columns]\n"
          ],
          "name": "stdout"
        }
      ]
    },
    {
      "cell_type": "code",
      "metadata": {
        "id": "vLwSwbQPahTp",
        "colab_type": "code",
        "colab": {
          "base_uri": "https://localhost:8080/",
          "height": 571
        },
        "outputId": "0ab8efc7-65c2-4bfe-e1c6-52f66f84ba0f"
      },
      "source": [
        "\n",
        "\n",
        "cur_table = pd.pivot_table(cur,index=[\"Act_date\"],columns = [\"flag\"],values=[\"p\"],aggfunc=np.mean)\n",
        "cur_table=cur_table.replace(np.nan,0)\n",
        "print(cur_table,'\\n')\n",
        "\n",
        "de_table = pd.pivot_table(de,index=[\"Act_date\"],columns = [\"flag\"],values=[\"p2\"],aggfunc=np.mean)\n",
        "de_table=de_table.replace(np.nan,0)\n",
        "print(de_table)"
      ],
      "execution_count": 49,
      "outputs": [
        {
          "output_type": "stream",
          "text": [
            "                   p      \n",
            "flag           False True \n",
            "Act_date                  \n",
            "2006-01-01  0.000000   0.0\n",
            "2006-02-01  0.004926   0.0\n",
            "2006-03-01  0.001513   0.0\n",
            "2006-04-01  0.000000   0.0\n",
            "2006-05-01  0.005952   0.0\n",
            "...              ...   ...\n",
            "2019-07-01  0.043478   0.0\n",
            "2019-08-01  0.004341   0.0\n",
            "2019-09-01  0.002870   0.0\n",
            "2019-10-01  0.000000   0.0\n",
            "2019-11-01  0.002222   0.0\n",
            "\n",
            "[167 rows x 2 columns] \n",
            "\n",
            "                  p2      \n",
            "flag           False True \n",
            "Act_date                  \n",
            "2006-03-01  0.000000   0.0\n",
            "2006-05-01  0.000000   0.0\n",
            "2006-06-01  0.000000   0.0\n",
            "2006-08-01  0.000000   0.0\n",
            "2006-09-01  0.000000   0.0\n",
            "...              ...   ...\n",
            "2019-06-01  0.042146   0.0\n",
            "2019-08-01  0.061728   0.0\n",
            "2019-09-01  0.039823   0.0\n",
            "2019-10-01  0.000000   0.0\n",
            "2019-11-01  0.041322   0.0\n",
            "\n",
            "[142 rows x 2 columns]\n"
          ],
          "name": "stdout"
        }
      ]
    },
    {
      "cell_type": "markdown",
      "metadata": {
        "id": "6acKTpx1R3ED",
        "colab_type": "text"
      },
      "source": [
        ""
      ]
    },
    {
      "cell_type": "code",
      "metadata": {
        "id": "yoRbXl-gk-5S",
        "colab_type": "code",
        "colab": {
          "base_uri": "https://localhost:8080/",
          "height": 673
        },
        "outputId": "01135020-b148-46de-9ee8-27ddba2fc5c0"
      },
      "source": [
        "from matplotlib.dates import DateFormatter, YearLocator,MonthLocator\n",
        "years = YearLocator()        # major ticks on the years\n",
        "months = MonthLocator()              # minor ticks on the months\n",
        "yearFormatter = DateFormatter('%Y')  # e.g.,  12\n",
        "monthFormatter = DateFormatter('%m')      # e.g., 12\n",
        "fig = plt.figure(1)\n",
        "# plot the P(DEL) for CUR Dataset\n",
        "ax = fig.add_subplot(1,1,1)\n",
        "ax.xaxis.set_major_locator(years)\n",
        "ax.xaxis.set_minor_locator(months)\n",
        "ax.xaxis.set_major_formatter(yearFormatter)\n",
        "ax.xaxis_date()\n",
        "ax.autoscale_view()\n",
        "handles, labels = ax.get_legend_handles_labels()\n",
        "ax.legend(handles, labels=('nonjumbo','jumbo'))\n",
        "plt.setp(plt.gca().get_xticklabels(), rotation=45, horizontalalignment='right')\n",
        "\n",
        "plt.ylabel('Probability of Delinquent')\n",
        "plt.xlabel('Time')\n",
        "plt.title('Current Dataset')\n",
        "#plt.legend(labels=('nonjumbo','jumbo'))\n",
        "\n",
        "plt.plot(cur_table,'o')\n",
        "plt.show()\n",
        "# plot the P(SDQ) for CUR Dataset\n",
        "ax2 = fig.add_subplot(1,2,1)\n",
        "ax2.xaxis.set_major_locator(years)\n",
        "ax2.xaxis.set_minor_locator(months)\n",
        "ax2.xaxis.set_major_formatter(yearFormatter)\n",
        "ax2.xaxis_date()\n",
        "ax2.autoscale_view()\n",
        "plt.setp(plt.gca().get_xticklabels(), rotation=45, horizontalalignment='right')\n",
        "\n",
        "plt.ylabel('Probability of Default')\n",
        "plt.xlabel('Time')\n",
        "plt.title('Delinquent Dataset')\n",
        "plt.legend(labels=('nonjumbo','jumbo'),loc='upper right')\n",
        "\n",
        "plt.plot(de_table,'o')\n",
        "plt.show()"
      ],
      "execution_count": 63,
      "outputs": [
        {
          "output_type": "stream",
          "text": [
            "/usr/local/lib/python3.6/dist-packages/ipykernel_launcher.py:15: UserWarning: You have mixed positional and keyword arguments, some input may be discarded.\n",
            "  from ipykernel import kernelapp as app\n"
          ],
          "name": "stderr"
        },
        {
          "output_type": "display_data",
          "data": {
            "image/png": "[encoded data removed]",
            "text/plain": [
              "<Figure size 432x288 with 1 Axes>"
            ]
          },
          "metadata": {
            "tags": []
          }
        },
        {
          "output_type": "display_data",
          "data": {
            "image/png": "[encoded data removed]",
            "text/plain": [
              "<Figure size 432x288 with 1 Axes>"
            ]
          },
          "metadata": {
            "tags": []
          }
        }
      ]
    },
    {
      "cell_type": "code",
      "metadata": {
        "colab_type": "code",
        "id": "jaDVouQtZsSr",
        "colab": {
          "base_uri": "https://localhost:8080/",
          "height": 318
        },
        "outputId": "85fa12b8-8b07-4fed-9043-c899ca1f01c1"
      },
      "source": [
        "# plot the P(DEL) for CUR Dataset\n",
        "sns.set()  # use Seaborn styles\n",
        "cur.pivot_table('p', index='Act_date', columns='flag', aggfunc='mean').replace(np.nan,0).plot()\n",
        "\n",
        "plt.ylabel('Probability of Delinquent')\n",
        "plt.xlabel('Time')\n",
        "plt.title('Current Dataset')\n",
        "plt.legend(labels=('Conforming','Jumbo'))\n"
      ],
      "execution_count": 74,
      "outputs": [
        {
          "output_type": "execute_result",
          "data": {
            "text/plain": [
              "<matplotlib.legend.Legend at 0x7f72e02726d8>"
            ]
          },
          "metadata": {
            "tags": []
          },
          "execution_count": 74
        },
        {
          "output_type": "display_data",
          "data": {
            "image/png": "[encoded data removed]",
            "text/plain": [
              "<Figure size 432x288 with 1 Axes>"
            ]
          },
          "metadata": {
            "tags": []
          }
        }
      ]
    },
    {
      "cell_type": "code",
      "metadata": {
        "colab_type": "code",
        "id": "k_6pcBzqdLE0",
        "colab": {
          "base_uri": "https://localhost:8080/",
          "height": 309
        },
        "outputId": "cb537aea-1ff6-4181-a010-16933e36ef3a"
      },
      "source": [
        "# plot the P(SDQ) for DEL Dataset\n",
        "sns.set()  # use Seaborn styles\n",
        "de.pivot_table('p2', index='Act_date', columns='flag', aggfunc='mean').replace(np.nan,0).plot()\n",
        "plt.ylabel('Probability of Default')\n",
        "plt.xlabel('Time')\n",
        "plt.legend(labels=('Conforming','Jumbo'))\n",
        "plt.title('Delinquent Dataset')"
      ],
      "execution_count": 75,
      "outputs": [
        {
          "output_type": "execute_result",
          "data": {
            "text/plain": [
              "Text(0.5, 1.0, 'Delinquent Dataset')"
            ]
          },
          "metadata": {
            "tags": []
          },
          "execution_count": 75
        },
        {
          "output_type": "display_data",
          "data": {
            "image/png": "[encoded data removed]",
            "text/plain": [
              "<Figure size 432x288 with 1 Axes>"
            ]
          },
          "metadata": {
            "tags": []
          }
        }
      ]
    },
    {
      "cell_type": "code",
      "metadata": {
        "id": "dnT7rnwKiZpa",
        "colab_type": "code",
        "colab": {
          "base_uri": "https://localhost:8080/",
          "height": 269
        },
        "outputId": "93971127-ec11-4554-ad2a-1e1a66aa34b9"
      },
      "source": [
        "#validation\n",
        "jumbo = cur[cur['Orig_amt']>510400]\n",
        "val_table = jumbo.groupby(['Act_date','Next_stat']).size().unstack()\n",
        "print(val_table)"
      ],
      "execution_count": null,
      "outputs": [
        {
          "output_type": "stream",
          "text": [
            "Next_stat     CUR  DEL   PPY  SDQ\n",
            "Act_date                         \n",
            "01/01/09      1.0  NaN   NaN  NaN\n",
            "01/01/11      1.0  NaN   NaN  NaN\n",
            "01/01/12      1.0  NaN   NaN  NaN\n",
            "01/01/13      NaN  NaN   1.0  NaN\n",
            "02/01/08      4.0  NaN   NaN  NaN\n",
            "...           ...  ...   ...  ...\n",
            "12/01/14   1236.0  2.0  67.0  NaN\n",
            "12/01/15   1143.0  3.0  42.0  NaN\n",
            "12/01/16   1071.0  3.0  41.0  NaN\n",
            "12/01/17   1157.0  2.0  16.0  NaN\n",
            "12/01/18   1069.0  2.0  21.0  NaN\n",
            "\n",
            "[119 rows x 4 columns]\n"
          ],
          "name": "stdout"
        }
      ]
    }
  ]
}