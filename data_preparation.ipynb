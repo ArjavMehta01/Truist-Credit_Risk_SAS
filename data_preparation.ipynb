{
  "nbformat": 4,
  "nbformat_minor": 0,
  "metadata": {
    "colab": {
      "name": "data_preparation",
      "provenance": [],
      "collapsed_sections": [],
      "authorship_tag": "ABX9TyMLfSQgfC8Xibs9AUQfqRvG",
      "include_colab_link": true
    },
    "kernelspec": {
      "name": "python3",
      "display_name": "Python 3"
    }
  },
  "cells": [
    {
      "cell_type": "markdown",
      "metadata": {
        "id": "view-in-github",
        "colab_type": "text"
      },
      "source": [
        "<a href=\"https://colab.research.google.com/github/ArjavMehta01/Truist-Credit_Risk_SAS/blob/Nishang/data_preparation.ipynb\" target=\"_parent\"><img src=\"https://colab.research.google.com/assets/colab-badge.svg\" alt=\"Open In Colab\"/></a>"
      ]
    },
    {
      "cell_type": "code",
      "metadata": {
        "id": "FHG7JLVW8JcN",
        "colab_type": "code",
        "colab": {}
      },
      "source": [
        "import pandas as pd\n",
        "import numpy as np\n"
      ],
      "execution_count": 0,
      "outputs": []
    },
    {
      "cell_type": "code",
      "metadata": {
        "id": "6uFfswPMmQuX",
        "colab_type": "code",
        "outputId": "ed6f6e98-ea8f-4ff2-c180-30ce92e7459e",
        "colab": {
          "base_uri": "https://localhost:8080/",
          "height": 121
        }
      },
      "source": [
        "from google.colab import drive\n",
        "drive.mount('/content/drive')"
      ],
      "execution_count": 3,
      "outputs": [
        {
          "output_type": "stream",
          "text": [
            "Go to this URL in a browser: https://accounts.google.com/o/oauth2/auth?client_id=947318989803-6bn6qk8qdgf4n4g3pfee6491hc0brc4i.apps.googleusercontent.com&redirect_uri=urn%3aietf%3awg%3aoauth%3a2.0%3aoob&response_type=code&scope=email%20https%3a%2f%2fwww.googleapis.com%2fauth%2fdocs.test%20https%3a%2f%2fwww.googleapis.com%2fauth%2fdrive%20https%3a%2f%2fwww.googleapis.com%2fauth%2fdrive.photos.readonly%20https%3a%2f%2fwww.googleapis.com%2fauth%2fpeopleapi.readonly\n",
            "\n",
            "Enter your authorization code:\n",
            "··········\n",
            "Mounted at /content/drive\n"
          ],
          "name": "stdout"
        }
      ]
    },
    {
      "cell_type": "code",
      "metadata": {
        "id": "1MbHe0OR6V9F",
        "colab_type": "code",
        "colab": {}
      },
      "source": [
        "test_data = pd.read_csv('/content/drive/My Drive/sample.csv')"
      ],
      "execution_count": 0,
      "outputs": []
    },
    {
      "cell_type": "code",
      "metadata": {
        "id": "kTXHA_g55GOE",
        "colab_type": "code",
        "colab": {}
      },
      "source": [
        "mac = pd.read_csv('/content/drive/My Drive/summer project/MacroVariables_01.csv')"
      ],
      "execution_count": 0,
      "outputs": []
    },
    {
      "cell_type": "code",
      "metadata": {
        "id": "grDdemV65RFD",
        "colab_type": "code",
        "outputId": "6a6f7522-1db9-4487-a563-8608c0704c72",
        "colab": {
          "base_uri": "https://localhost:8080/",
          "height": 195
        }
      },
      "source": [
        "mac.head()"
      ],
      "execution_count": 5,
      "outputs": [
        {
          "output_type": "execute_result",
          "data": {
            "text/html": [
              "<div>\n",
              "<style scoped>\n",
              "    .dataframe tbody tr th:only-of-type {\n",
              "        vertical-align: middle;\n",
              "    }\n",
              "\n",
              "    .dataframe tbody tr th {\n",
              "        vertical-align: top;\n",
              "    }\n",
              "\n",
              "    .dataframe thead th {\n",
              "        text-align: right;\n",
              "    }\n",
              "</style>\n",
              "<table border=\"1\" class=\"dataframe\">\n",
              "  <thead>\n",
              "    <tr style=\"text-align: right;\">\n",
              "      <th></th>\n",
              "      <th>HousingSt_Var</th>\n",
              "      <th>date</th>\n",
              "      <th>MDT_HS</th>\n",
              "      <th>Unemp_Var</th>\n",
              "      <th>MDT_UMP</th>\n",
              "      <th>PPI_Var</th>\n",
              "      <th>MDT_PPI</th>\n",
              "      <th>HPI_Var</th>\n",
              "      <th>MDT_HPI</th>\n",
              "      <th>Payrolls</th>\n",
              "      <th>MDT_TNF</th>\n",
              "    </tr>\n",
              "  </thead>\n",
              "  <tbody>\n",
              "    <tr>\n",
              "      <th>0</th>\n",
              "      <td>1600</td>\n",
              "      <td>01/01/2005</td>\n",
              "      <td>-19.0</td>\n",
              "      <td>5.3</td>\n",
              "      <td>0.0</td>\n",
              "      <td>140.0</td>\n",
              "      <td>1.2</td>\n",
              "      <td>109.851</td>\n",
              "      <td>0.835</td>\n",
              "      <td>132791</td>\n",
              "      <td>123.0</td>\n",
              "    </tr>\n",
              "    <tr>\n",
              "      <th>1</th>\n",
              "      <td>1625</td>\n",
              "      <td>02/01/2005</td>\n",
              "      <td>68.0</td>\n",
              "      <td>5.4</td>\n",
              "      <td>-0.1</td>\n",
              "      <td>137.4</td>\n",
              "      <td>3.8</td>\n",
              "      <td>110.504</td>\n",
              "      <td>0.716</td>\n",
              "      <td>133050</td>\n",
              "      <td>147.0</td>\n",
              "    </tr>\n",
              "    <tr>\n",
              "      <th>2</th>\n",
              "      <td>1590</td>\n",
              "      <td>03/01/2005</td>\n",
              "      <td>25.0</td>\n",
              "      <td>5.2</td>\n",
              "      <td>0.1</td>\n",
              "      <td>135.9</td>\n",
              "      <td>-2.6</td>\n",
              "      <td>111.111</td>\n",
              "      <td>0.653</td>\n",
              "      <td>133172</td>\n",
              "      <td>259.0</td>\n",
              "    </tr>\n",
              "    <tr>\n",
              "      <th>3</th>\n",
              "      <td>1649</td>\n",
              "      <td>04/01/2005</td>\n",
              "      <td>-35.0</td>\n",
              "      <td>5.2</td>\n",
              "      <td>-0.2</td>\n",
              "      <td>136.4</td>\n",
              "      <td>-1.5</td>\n",
              "      <td>111.653</td>\n",
              "      <td>0.607</td>\n",
              "      <td>133536</td>\n",
              "      <td>122.0</td>\n",
              "    </tr>\n",
              "    <tr>\n",
              "      <th>4</th>\n",
              "      <td>1605</td>\n",
              "      <td>05/01/2005</td>\n",
              "      <td>59.0</td>\n",
              "      <td>5.1</td>\n",
              "      <td>0.0</td>\n",
              "      <td>136.8</td>\n",
              "      <td>0.5</td>\n",
              "      <td>112.165</td>\n",
              "      <td>0.542</td>\n",
              "      <td>133706</td>\n",
              "      <td>364.0</td>\n",
              "    </tr>\n",
              "  </tbody>\n",
              "</table>\n",
              "</div>"
            ],
            "text/plain": [
              "   HousingSt_Var        date  MDT_HS  ...  MDT_HPI  Payrolls  MDT_TNF\n",
              "0           1600  01/01/2005   -19.0  ...    0.835    132791    123.0\n",
              "1           1625  02/01/2005    68.0  ...    0.716    133050    147.0\n",
              "2           1590  03/01/2005    25.0  ...    0.653    133172    259.0\n",
              "3           1649  04/01/2005   -35.0  ...    0.607    133536    122.0\n",
              "4           1605  05/01/2005    59.0  ...    0.542    133706    364.0\n",
              "\n",
              "[5 rows x 11 columns]"
            ]
          },
          "metadata": {
            "tags": []
          },
          "execution_count": 5
        }
      ]
    },
    {
      "cell_type": "code",
      "metadata": {
        "id": "vwh9my076cq2",
        "colab_type": "code",
        "outputId": "dea80cff-a533-47fc-ce38-266cab13d01f",
        "colab": {
          "base_uri": "https://localhost:8080/",
          "height": 195
        }
      },
      "source": [
        "test_data.head()"
      ],
      "execution_count": 0,
      "outputs": [
        {
          "output_type": "execute_result",
          "data": {
            "text/html": [
              "<div>\n",
              "<style scoped>\n",
              "    .dataframe tbody tr th:only-of-type {\n",
              "        vertical-align: middle;\n",
              "    }\n",
              "\n",
              "    .dataframe tbody tr th {\n",
              "        vertical-align: top;\n",
              "    }\n",
              "\n",
              "    .dataframe thead th {\n",
              "        text-align: right;\n",
              "    }\n",
              "</style>\n",
              "<table border=\"1\" class=\"dataframe\">\n",
              "  <thead>\n",
              "    <tr style=\"text-align: right;\">\n",
              "      <th></th>\n",
              "      <th>Loan_id</th>\n",
              "      <th>Orig_rt</th>\n",
              "      <th>Orig_amt</th>\n",
              "      <th>Orig_dte</th>\n",
              "      <th>Oltv</th>\n",
              "      <th>Dti</th>\n",
              "      <th>Cscore_b</th>\n",
              "      <th>Act_date</th>\n",
              "      <th>Curr_rte</th>\n",
              "      <th>Act_upb</th>\n",
              "      <th>Loan_age</th>\n",
              "      <th>Dlq_stat</th>\n",
              "      <th>Zb_code</th>\n",
              "      <th>Zb_date</th>\n",
              "    </tr>\n",
              "  </thead>\n",
              "  <tbody>\n",
              "    <tr>\n",
              "      <th>0</th>\n",
              "      <td>100019404672</td>\n",
              "      <td>4.875</td>\n",
              "      <td>160000</td>\n",
              "      <td>02/01/08</td>\n",
              "      <td>80</td>\n",
              "      <td>36.0</td>\n",
              "      <td>691.0</td>\n",
              "      <td>03/01/08</td>\n",
              "      <td>4.875</td>\n",
              "      <td>NaN</td>\n",
              "      <td>0</td>\n",
              "      <td>0</td>\n",
              "      <td>NaN</td>\n",
              "      <td>NaN</td>\n",
              "    </tr>\n",
              "    <tr>\n",
              "      <th>1</th>\n",
              "      <td>100019404672</td>\n",
              "      <td>4.875</td>\n",
              "      <td>160000</td>\n",
              "      <td>02/01/08</td>\n",
              "      <td>80</td>\n",
              "      <td>36.0</td>\n",
              "      <td>691.0</td>\n",
              "      <td>04/01/08</td>\n",
              "      <td>4.875</td>\n",
              "      <td>NaN</td>\n",
              "      <td>1</td>\n",
              "      <td>0</td>\n",
              "      <td>NaN</td>\n",
              "      <td>NaN</td>\n",
              "    </tr>\n",
              "    <tr>\n",
              "      <th>2</th>\n",
              "      <td>100019404672</td>\n",
              "      <td>4.875</td>\n",
              "      <td>160000</td>\n",
              "      <td>02/01/08</td>\n",
              "      <td>80</td>\n",
              "      <td>36.0</td>\n",
              "      <td>691.0</td>\n",
              "      <td>05/01/08</td>\n",
              "      <td>4.875</td>\n",
              "      <td>NaN</td>\n",
              "      <td>2</td>\n",
              "      <td>0</td>\n",
              "      <td>NaN</td>\n",
              "      <td>NaN</td>\n",
              "    </tr>\n",
              "    <tr>\n",
              "      <th>3</th>\n",
              "      <td>100019404672</td>\n",
              "      <td>4.875</td>\n",
              "      <td>160000</td>\n",
              "      <td>02/01/08</td>\n",
              "      <td>80</td>\n",
              "      <td>36.0</td>\n",
              "      <td>691.0</td>\n",
              "      <td>06/01/08</td>\n",
              "      <td>4.875</td>\n",
              "      <td>NaN</td>\n",
              "      <td>3</td>\n",
              "      <td>0</td>\n",
              "      <td>NaN</td>\n",
              "      <td>NaN</td>\n",
              "    </tr>\n",
              "    <tr>\n",
              "      <th>4</th>\n",
              "      <td>100019404672</td>\n",
              "      <td>4.875</td>\n",
              "      <td>160000</td>\n",
              "      <td>02/01/08</td>\n",
              "      <td>80</td>\n",
              "      <td>36.0</td>\n",
              "      <td>691.0</td>\n",
              "      <td>07/01/08</td>\n",
              "      <td>4.875</td>\n",
              "      <td>NaN</td>\n",
              "      <td>4</td>\n",
              "      <td>0</td>\n",
              "      <td>NaN</td>\n",
              "      <td>NaN</td>\n",
              "    </tr>\n",
              "  </tbody>\n",
              "</table>\n",
              "</div>"
            ],
            "text/plain": [
              "        Loan_id  Orig_rt  Orig_amt  ... Dlq_stat  Zb_code  Zb_date\n",
              "0  100019404672    4.875    160000  ...        0      NaN      NaN\n",
              "1  100019404672    4.875    160000  ...        0      NaN      NaN\n",
              "2  100019404672    4.875    160000  ...        0      NaN      NaN\n",
              "3  100019404672    4.875    160000  ...        0      NaN      NaN\n",
              "4  100019404672    4.875    160000  ...        0      NaN      NaN\n",
              "\n",
              "[5 rows x 14 columns]"
            ]
          },
          "metadata": {
            "tags": []
          },
          "execution_count": 24
        }
      ]
    },
    {
      "cell_type": "code",
      "metadata": {
        "id": "r7rEn6zp-fNE",
        "colab_type": "code",
        "outputId": "ca578390-005c-454f-fa5c-c8535217a7e7",
        "colab": {
          "base_uri": "https://localhost:8080/",
          "height": 134
        }
      },
      "source": [
        "# create sample data\n",
        "Zb_code = np.ones(6)\n",
        "for i in range(5):\n",
        "  Zb_code[i]=None\n",
        "test = [[1,1,1,2,2,2],\n",
        "        [\"3/1/2008\",\"4/1/2008\",\"5/1/2008\",\"3/1/2008\",\"4/1/2008\",\"5/1/2008\"],\n",
        "        [0,1,2,3,4,999],\n",
        "        Zb_code]\n",
        "tran_test = np.transpose(test)\n",
        "frame = pd.DataFrame(tran_test, columns = ['Loan_id', 'Act_date', 'Dlq_stat', 'Zb_code'])\n",
        "print(frame)"
      ],
      "execution_count": 6,
      "outputs": [
        {
          "output_type": "stream",
          "text": [
            "  Loan_id  Act_date Dlq_stat Zb_code\n",
            "0       1  3/1/2008        0     nan\n",
            "1       1  4/1/2008        1     nan\n",
            "2       1  5/1/2008        2     nan\n",
            "3       2  3/1/2008        3     nan\n",
            "4       2  4/1/2008        4     nan\n",
            "5       2  5/1/2008      999     1.0\n"
          ],
          "name": "stdout"
        }
      ]
    },
    {
      "cell_type": "code",
      "metadata": {
        "id": "jPSRTkqU7n7V",
        "colab_type": "code",
        "colab": {}
      },
      "source": [
        "def generate_cur(Dlq_stat,Zb_code):\n",
        "  if int(Dlq_stat) == 0:\n",
        "    return \"C\"\n",
        "  elif int(Dlq_stat) <= 3:\n",
        "    return \"D\"\n",
        "  elif float(Zb_code)== 1 :\n",
        "      return \"P\"\n",
        "  else:\n",
        "      return \"S\""
      ],
      "execution_count": 0,
      "outputs": []
    },
    {
      "cell_type": "code",
      "metadata": {
        "id": "xQ2_3x81Azju",
        "colab_type": "code",
        "outputId": "0c9c9c18-c4cb-484e-ad1f-0db9e55dbe4c",
        "colab": {
          "base_uri": "https://localhost:8080/",
          "height": 269
        }
      },
      "source": [
        "print(frame, '\\n')\n",
        "frame['cur_state'] = frame.apply(lambda x: generate_cur(x.Dlq_stat, x.Zb_code), axis = 1)\n",
        "print(frame)"
      ],
      "execution_count": 8,
      "outputs": [
        {
          "output_type": "stream",
          "text": [
            "  Loan_id  Act_date Dlq_stat Zb_code\n",
            "0       1  3/1/2008        0     nan\n",
            "1       1  4/1/2008        1     nan\n",
            "2       1  5/1/2008        2     nan\n",
            "3       2  3/1/2008        3     nan\n",
            "4       2  4/1/2008        4     nan\n",
            "5       2  5/1/2008      999     1.0 \n",
            "\n",
            "  Loan_id  Act_date Dlq_stat Zb_code cur_state\n",
            "0       1  3/1/2008        0     nan         C\n",
            "1       1  4/1/2008        1     nan         D\n",
            "2       1  5/1/2008        2     nan         D\n",
            "3       2  3/1/2008        3     nan         D\n",
            "4       2  4/1/2008        4     nan         S\n",
            "5       2  5/1/2008      999     1.0         P\n"
          ],
          "name": "stdout"
        }
      ]
    },
    {
      "cell_type": "code",
      "metadata": {
        "id": "LI--HdWomOUB",
        "colab_type": "code",
        "outputId": "915d0c7a-e01a-4ad8-8117-f1f8c9e62ea0",
        "colab": {
          "base_uri": "https://localhost:8080/",
          "height": 50
        }
      },
      "source": [
        "\n",
        "#create next state\n",
        "next_state=[None]*len(frame.Loan_id)\n",
        "\n",
        "cur_state = list(frame.cur_state)\n",
        "print(cur_state)\n",
        "print(next_state)"
      ],
      "execution_count": 10,
      "outputs": [
        {
          "output_type": "stream",
          "text": [
            "['C', 'D', 'D', 'D', 'S', 'P']\n",
            "[None, None, None, None, None, None]\n"
          ],
          "name": "stdout"
        }
      ]
    },
    {
      "cell_type": "code",
      "metadata": {
        "id": "2bOAqeGYiMyi",
        "colab_type": "code",
        "outputId": "08381ac9-d3ca-448c-90fe-3b1048339f08",
        "colab": {
          "base_uri": "https://localhost:8080/",
          "height": 34
        }
      },
      "source": [
        "listids = list(frame.Loan_id)\n",
        "unique =set(frame.Loan_id)\n",
        "print(unique)"
      ],
      "execution_count": 11,
      "outputs": [
        {
          "output_type": "stream",
          "text": [
            "{'2', '1'}\n"
          ],
          "name": "stdout"
        }
      ]
    },
    {
      "cell_type": "code",
      "metadata": {
        "id": "SGwapoqe1fVD",
        "colab_type": "code",
        "outputId": "f1dee4cb-de92-413e-a8f5-4bf6d129d2c3",
        "colab": {
          "base_uri": "https://localhost:8080/",
          "height": 34
        }
      },
      "source": [
        "for loan in unique:\n",
        "  indexPosList = [ i for i in range(len(listids)) if listids[i] == loan ]\n",
        "    # print(indexPosList)\n",
        "  indexPosList.pop()\n",
        "  for j in indexPosList:\n",
        "    next_state[j]=cur_state[j+1]\n",
        "print(next_state)"
      ],
      "execution_count": 12,
      "outputs": [
        {
          "output_type": "stream",
          "text": [
            "['D', 'D', None, 'S', 'P', None]\n"
          ],
          "name": "stdout"
        }
      ]
    },
    {
      "cell_type": "code",
      "metadata": {
        "id": "4HdF3oE15ijk",
        "colab_type": "code",
        "outputId": "4df7ed6e-c91c-4d7f-f147-c59181235a56",
        "colab": {
          "base_uri": "https://localhost:8080/",
          "height": 134
        }
      },
      "source": [
        "frame['next_state']=next_state\n",
        "print(frame)\n"
      ],
      "execution_count": 13,
      "outputs": [
        {
          "output_type": "stream",
          "text": [
            "  Loan_id  Act_date Dlq_stat Zb_code cur_state next_state\n",
            "0       1  3/1/2008        0     nan         C          D\n",
            "1       1  4/1/2008        1     nan         D          D\n",
            "2       1  5/1/2008        2     nan         D       None\n",
            "3       2  3/1/2008        3     nan         D          S\n",
            "4       2  4/1/2008        4     nan         S          P\n",
            "5       2  5/1/2008      999     1.0         P       None\n"
          ],
          "name": "stdout"
        }
      ]
    },
    {
      "cell_type": "code",
      "metadata": {
        "id": "PVvRtiXV6Mu6",
        "colab_type": "code",
        "colab": {}
      },
      "source": [
        ""
      ],
      "execution_count": 0,
      "outputs": []
    }
  ]
}