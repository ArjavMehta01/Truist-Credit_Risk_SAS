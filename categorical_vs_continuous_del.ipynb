{
  "nbformat": 4,
  "nbformat_minor": 0,
  "metadata": {
    "colab": {
      "name": " categorical_vs_continuous_del.ipynb",
      "provenance": [],
      "collapsed_sections": [],
      "authorship_tag": "ABX9TyPD5hJh3M6/cvQJg2y7OMbJ",
      "include_colab_link": true
    },
    "kernelspec": {
      "name": "python3",
      "display_name": "Python 3"
    }
  },
  "cells": [
    {
      "cell_type": "markdown",
      "metadata": {
        "id": "view-in-github",
        "colab_type": "text"
      },
      "source": [
        "<a href=\"https://colab.research.google.com/github/ArjavMehta01/Truist-Credit_Risk_SAS/blob/Nishang/categorical_vs_continuous_del.ipynb\" target=\"_parent\"><img src=\"https://colab.research.google.com/assets/colab-badge.svg\" alt=\"Open In Colab\"/></a>"
      ]
    },
    {
      "cell_type": "code",
      "metadata": {
        "id": "RT3DuP1wqfLG",
        "colab_type": "code",
        "colab": {
          "base_uri": "https://localhost:8080/",
          "height": 70
        },
        "outputId": "36c443e5-2de9-45f9-ea65-eb1ab46ceeb9"
      },
      "source": [
        "import pandas as pd\n",
        "import numpy as np\n",
        "import matplotlib.pyplot as plt\n",
        "import seaborn as sns\n",
        "import matplotlib.dates as mdate\n"
      ],
      "execution_count": 1,
      "outputs": [
        {
          "output_type": "stream",
          "text": [
            "/usr/local/lib/python3.6/dist-packages/statsmodels/tools/_testing.py:19: FutureWarning: pandas.util.testing is deprecated. Use the functions in the public API at pandas.testing instead.\n",
            "  import pandas.util.testing as tm\n"
          ],
          "name": "stderr"
        }
      ]
    },
    {
      "cell_type": "code",
      "metadata": {
        "id": "xynCL5QprObH",
        "colab_type": "code",
        "colab": {
          "base_uri": "https://localhost:8080/",
          "height": 121
        },
        "outputId": "b1d53eb9-b12b-4a0b-f7f5-1e9e51d0bfe1"
      },
      "source": [
        "from google.colab import drive\n",
        "drive.mount('/content/drive')"
      ],
      "execution_count": 2,
      "outputs": [
        {
          "output_type": "stream",
          "text": [
            "Go to this URL in a browser: https://accounts.google.com/o/oauth2/auth?client_id=947318989803-6bn6qk8qdgf4n4g3pfee6491hc0brc4i.apps.googleusercontent.com&redirect_uri=urn%3aietf%3awg%3aoauth%3a2.0%3aoob&response_type=code&scope=email%20https%3a%2f%2fwww.googleapis.com%2fauth%2fdocs.test%20https%3a%2f%2fwww.googleapis.com%2fauth%2fdrive%20https%3a%2f%2fwww.googleapis.com%2fauth%2fdrive.photos.readonly%20https%3a%2f%2fwww.googleapis.com%2fauth%2fpeopleapi.readonly\n",
            "\n",
            "Enter your authorization code:\n",
            "··········\n",
            "Mounted at /content/drive\n"
          ],
          "name": "stdout"
        }
      ]
    },
    {
      "cell_type": "code",
      "metadata": {
        "id": "6eJPFHQ1rZQi",
        "colab_type": "code",
        "colab": {
          "base_uri": "https://localhost:8080/",
          "height": 422
        },
        "outputId": "20bd18b6-e3f3-486a-a2db-be3b62261912"
      },
      "source": [
        "de = pd.read_csv('/content/drive/My Drive/summer project/Copy of train_DEL.csv')\n",
        "#de['Act_date']= pd.to_datetime(de['Act_date'],format= '%m/%d/%y') \n",
        "de\n"
      ],
      "execution_count": 3,
      "outputs": [
        {
          "output_type": "execute_result",
          "data": {
            "text/html": [
              "<div>\n",
              "<style scoped>\n",
              "    .dataframe tbody tr th:only-of-type {\n",
              "        vertical-align: middle;\n",
              "    }\n",
              "\n",
              "    .dataframe tbody tr th {\n",
              "        vertical-align: top;\n",
              "    }\n",
              "\n",
              "    .dataframe thead th {\n",
              "        text-align: right;\n",
              "    }\n",
              "</style>\n",
              "<table border=\"1\" class=\"dataframe\">\n",
              "  <thead>\n",
              "    <tr style=\"text-align: right;\">\n",
              "      <th></th>\n",
              "      <th>Loan_id</th>\n",
              "      <th>Orig_amt</th>\n",
              "      <th>Orig_dte</th>\n",
              "      <th>Oltv</th>\n",
              "      <th>Dti</th>\n",
              "      <th>Cscore_b</th>\n",
              "      <th>Fthb_flg</th>\n",
              "      <th>Purpose</th>\n",
              "      <th>Prop_typ</th>\n",
              "      <th>Num_unit</th>\n",
              "      <th>Occ_stat</th>\n",
              "      <th>Act_date</th>\n",
              "      <th>Curr_rte</th>\n",
              "      <th>Act_upb</th>\n",
              "      <th>Loan_age</th>\n",
              "      <th>Next_stat</th>\n",
              "      <th>GDP</th>\n",
              "      <th>HS</th>\n",
              "      <th>UMP</th>\n",
              "      <th>PPI</th>\n",
              "      <th>HPI</th>\n",
              "      <th>yqtr</th>\n",
              "    </tr>\n",
              "  </thead>\n",
              "  <tbody>\n",
              "    <tr>\n",
              "      <th>0</th>\n",
              "      <td>100193915350</td>\n",
              "      <td>119000</td>\n",
              "      <td>04/01/09</td>\n",
              "      <td>71</td>\n",
              "      <td>41.0</td>\n",
              "      <td>789</td>\n",
              "      <td>N</td>\n",
              "      <td>R</td>\n",
              "      <td>SF</td>\n",
              "      <td>1</td>\n",
              "      <td>P</td>\n",
              "      <td>06/01/15</td>\n",
              "      <td>4.500</td>\n",
              "      <td>105986.13</td>\n",
              "      <td>73</td>\n",
              "      <td>DEL</td>\n",
              "      <td>18219.405</td>\n",
              "      <td>1205</td>\n",
              "      <td>5.3</td>\n",
              "      <td>194.8</td>\n",
              "      <td>171.467</td>\n",
              "      <td>2015Q2</td>\n",
              "    </tr>\n",
              "    <tr>\n",
              "      <th>1</th>\n",
              "      <td>100193915350</td>\n",
              "      <td>119000</td>\n",
              "      <td>04/01/09</td>\n",
              "      <td>71</td>\n",
              "      <td>41.0</td>\n",
              "      <td>789</td>\n",
              "      <td>N</td>\n",
              "      <td>R</td>\n",
              "      <td>SF</td>\n",
              "      <td>1</td>\n",
              "      <td>P</td>\n",
              "      <td>09/01/15</td>\n",
              "      <td>4.500</td>\n",
              "      <td>105367.28</td>\n",
              "      <td>76</td>\n",
              "      <td>DEL</td>\n",
              "      <td>18344.713</td>\n",
              "      <td>1224</td>\n",
              "      <td>5.0</td>\n",
              "      <td>189.1</td>\n",
              "      <td>173.847</td>\n",
              "      <td>2015Q3</td>\n",
              "    </tr>\n",
              "    <tr>\n",
              "      <th>2</th>\n",
              "      <td>100193915350</td>\n",
              "      <td>119000</td>\n",
              "      <td>04/01/09</td>\n",
              "      <td>71</td>\n",
              "      <td>41.0</td>\n",
              "      <td>789</td>\n",
              "      <td>N</td>\n",
              "      <td>R</td>\n",
              "      <td>SF</td>\n",
              "      <td>1</td>\n",
              "      <td>P</td>\n",
              "      <td>12/01/15</td>\n",
              "      <td>4.500</td>\n",
              "      <td>104950.84</td>\n",
              "      <td>79</td>\n",
              "      <td>DEL</td>\n",
              "      <td>18350.825</td>\n",
              "      <td>1146</td>\n",
              "      <td>5.0</td>\n",
              "      <td>183.5</td>\n",
              "      <td>176.598</td>\n",
              "      <td>2015Q4</td>\n",
              "    </tr>\n",
              "    <tr>\n",
              "      <th>3</th>\n",
              "      <td>100413254871</td>\n",
              "      <td>90000</td>\n",
              "      <td>11/01/08</td>\n",
              "      <td>67</td>\n",
              "      <td>47.0</td>\n",
              "      <td>696</td>\n",
              "      <td>N</td>\n",
              "      <td>R</td>\n",
              "      <td>CO</td>\n",
              "      <td>1</td>\n",
              "      <td>P</td>\n",
              "      <td>10/01/10</td>\n",
              "      <td>6.375</td>\n",
              "      <td>87610.83</td>\n",
              "      <td>22</td>\n",
              "      <td>CUR</td>\n",
              "      <td>15240.843</td>\n",
              "      <td>543</td>\n",
              "      <td>9.4</td>\n",
              "      <td>186.6</td>\n",
              "      <td>142.526</td>\n",
              "      <td>2010Q4</td>\n",
              "    </tr>\n",
              "    <tr>\n",
              "      <th>4</th>\n",
              "      <td>100413254871</td>\n",
              "      <td>90000</td>\n",
              "      <td>11/01/08</td>\n",
              "      <td>67</td>\n",
              "      <td>47.0</td>\n",
              "      <td>696</td>\n",
              "      <td>N</td>\n",
              "      <td>R</td>\n",
              "      <td>CO</td>\n",
              "      <td>1</td>\n",
              "      <td>P</td>\n",
              "      <td>04/01/11</td>\n",
              "      <td>6.375</td>\n",
              "      <td>87031.41</td>\n",
              "      <td>28</td>\n",
              "      <td>CUR</td>\n",
              "      <td>15496.189</td>\n",
              "      <td>554</td>\n",
              "      <td>9.1</td>\n",
              "      <td>203.1</td>\n",
              "      <td>140.006</td>\n",
              "      <td>2011Q2</td>\n",
              "    </tr>\n",
              "    <tr>\n",
              "      <th>...</th>\n",
              "      <td>...</td>\n",
              "      <td>...</td>\n",
              "      <td>...</td>\n",
              "      <td>...</td>\n",
              "      <td>...</td>\n",
              "      <td>...</td>\n",
              "      <td>...</td>\n",
              "      <td>...</td>\n",
              "      <td>...</td>\n",
              "      <td>...</td>\n",
              "      <td>...</td>\n",
              "      <td>...</td>\n",
              "      <td>...</td>\n",
              "      <td>...</td>\n",
              "      <td>...</td>\n",
              "      <td>...</td>\n",
              "      <td>...</td>\n",
              "      <td>...</td>\n",
              "      <td>...</td>\n",
              "      <td>...</td>\n",
              "      <td>...</td>\n",
              "      <td>...</td>\n",
              "    </tr>\n",
              "    <tr>\n",
              "      <th>11756</th>\n",
              "      <td>998908346394</td>\n",
              "      <td>133000</td>\n",
              "      <td>02/01/06</td>\n",
              "      <td>89</td>\n",
              "      <td>55.0</td>\n",
              "      <td>688</td>\n",
              "      <td>N</td>\n",
              "      <td>C</td>\n",
              "      <td>SF</td>\n",
              "      <td>1</td>\n",
              "      <td>P</td>\n",
              "      <td>09/01/07</td>\n",
              "      <td>6.125</td>\n",
              "      <td>123856.29</td>\n",
              "      <td>19</td>\n",
              "      <td>CUR</td>\n",
              "      <td>14535.003</td>\n",
              "      <td>1183</td>\n",
              "      <td>4.7</td>\n",
              "      <td>173.5</td>\n",
              "      <td>177.567</td>\n",
              "      <td>2007Q3</td>\n",
              "    </tr>\n",
              "    <tr>\n",
              "      <th>11757</th>\n",
              "      <td>999238630268</td>\n",
              "      <td>166000</td>\n",
              "      <td>10/01/08</td>\n",
              "      <td>95</td>\n",
              "      <td>42.0</td>\n",
              "      <td>682</td>\n",
              "      <td>Y</td>\n",
              "      <td>P</td>\n",
              "      <td>SF</td>\n",
              "      <td>1</td>\n",
              "      <td>P</td>\n",
              "      <td>12/01/09</td>\n",
              "      <td>6.750</td>\n",
              "      <td>164576.59</td>\n",
              "      <td>13</td>\n",
              "      <td>SDQ</td>\n",
              "      <td>14628.021</td>\n",
              "      <td>581</td>\n",
              "      <td>9.9</td>\n",
              "      <td>178.1</td>\n",
              "      <td>147.935</td>\n",
              "      <td>2009Q4</td>\n",
              "    </tr>\n",
              "    <tr>\n",
              "      <th>11758</th>\n",
              "      <td>999557110284</td>\n",
              "      <td>75000</td>\n",
              "      <td>04/01/11</td>\n",
              "      <td>41</td>\n",
              "      <td>41.0</td>\n",
              "      <td>758</td>\n",
              "      <td>N</td>\n",
              "      <td>C</td>\n",
              "      <td>SF</td>\n",
              "      <td>1</td>\n",
              "      <td>P</td>\n",
              "      <td>06/01/13</td>\n",
              "      <td>4.875</td>\n",
              "      <td>69524.67</td>\n",
              "      <td>25</td>\n",
              "      <td>CUR</td>\n",
              "      <td>16637.926</td>\n",
              "      <td>839</td>\n",
              "      <td>7.5</td>\n",
              "      <td>204.3</td>\n",
              "      <td>154.202</td>\n",
              "      <td>2013Q2</td>\n",
              "    </tr>\n",
              "    <tr>\n",
              "      <th>11759</th>\n",
              "      <td>999955193848</td>\n",
              "      <td>264000</td>\n",
              "      <td>04/01/07</td>\n",
              "      <td>80</td>\n",
              "      <td>37.0</td>\n",
              "      <td>660</td>\n",
              "      <td>N</td>\n",
              "      <td>C</td>\n",
              "      <td>SF</td>\n",
              "      <td>1</td>\n",
              "      <td>P</td>\n",
              "      <td>12/01/09</td>\n",
              "      <td>5.875</td>\n",
              "      <td>254300.44</td>\n",
              "      <td>31</td>\n",
              "      <td>CUR</td>\n",
              "      <td>14628.021</td>\n",
              "      <td>581</td>\n",
              "      <td>9.9</td>\n",
              "      <td>178.1</td>\n",
              "      <td>147.935</td>\n",
              "      <td>2009Q4</td>\n",
              "    </tr>\n",
              "    <tr>\n",
              "      <th>11760</th>\n",
              "      <td>999975026036</td>\n",
              "      <td>100000</td>\n",
              "      <td>07/01/13</td>\n",
              "      <td>75</td>\n",
              "      <td>26.0</td>\n",
              "      <td>716</td>\n",
              "      <td>N</td>\n",
              "      <td>P</td>\n",
              "      <td>SF</td>\n",
              "      <td>1</td>\n",
              "      <td>I</td>\n",
              "      <td>09/01/14</td>\n",
              "      <td>4.750</td>\n",
              "      <td>98194.17</td>\n",
              "      <td>13</td>\n",
              "      <td>CUR</td>\n",
              "      <td>17721.657</td>\n",
              "      <td>1023</td>\n",
              "      <td>5.9</td>\n",
              "      <td>206.4</td>\n",
              "      <td>165.915</td>\n",
              "      <td>2014Q3</td>\n",
              "    </tr>\n",
              "  </tbody>\n",
              "</table>\n",
              "<p>11761 rows × 22 columns</p>\n",
              "</div>"
            ],
            "text/plain": [
              "            Loan_id  Orig_amt  Orig_dte  Oltv  ...  UMP    PPI      HPI    yqtr\n",
              "0      100193915350    119000  04/01/09    71  ...  5.3  194.8  171.467  2015Q2\n",
              "1      100193915350    119000  04/01/09    71  ...  5.0  189.1  173.847  2015Q3\n",
              "2      100193915350    119000  04/01/09    71  ...  5.0  183.5  176.598  2015Q4\n",
              "3      100413254871     90000  11/01/08    67  ...  9.4  186.6  142.526  2010Q4\n",
              "4      100413254871     90000  11/01/08    67  ...  9.1  203.1  140.006  2011Q2\n",
              "...             ...       ...       ...   ...  ...  ...    ...      ...     ...\n",
              "11756  998908346394    133000  02/01/06    89  ...  4.7  173.5  177.567  2007Q3\n",
              "11757  999238630268    166000  10/01/08    95  ...  9.9  178.1  147.935  2009Q4\n",
              "11758  999557110284     75000  04/01/11    41  ...  7.5  204.3  154.202  2013Q2\n",
              "11759  999955193848    264000  04/01/07    80  ...  9.9  178.1  147.935  2009Q4\n",
              "11760  999975026036    100000  07/01/13    75  ...  5.9  206.4  165.915  2014Q3\n",
              "\n",
              "[11761 rows x 22 columns]"
            ]
          },
          "metadata": {
            "tags": []
          },
          "execution_count": 3
        }
      ]
    },
    {
      "cell_type": "code",
      "metadata": {
        "id": "Ny1pcWs7zUXr",
        "colab_type": "code",
        "colab": {
          "base_uri": "https://localhost:8080/",
          "height": 215
        },
        "outputId": "da7cd620-f022-41be-9a8a-2a03f104ba90"
      },
      "source": [
        "de['p']= de.Next_stat.apply(lambda x: x==\"SDQ\")\n",
        "de['p'] = de['p']*1\n",
        "#%\n",
        "de['p'] = de['p']*100\n",
        "\n",
        "de.head()\n"
      ],
      "execution_count": 4,
      "outputs": [
        {
          "output_type": "execute_result",
          "data": {
            "text/html": [
              "<div>\n",
              "<style scoped>\n",
              "    .dataframe tbody tr th:only-of-type {\n",
              "        vertical-align: middle;\n",
              "    }\n",
              "\n",
              "    .dataframe tbody tr th {\n",
              "        vertical-align: top;\n",
              "    }\n",
              "\n",
              "    .dataframe thead th {\n",
              "        text-align: right;\n",
              "    }\n",
              "</style>\n",
              "<table border=\"1\" class=\"dataframe\">\n",
              "  <thead>\n",
              "    <tr style=\"text-align: right;\">\n",
              "      <th></th>\n",
              "      <th>Loan_id</th>\n",
              "      <th>Orig_amt</th>\n",
              "      <th>Orig_dte</th>\n",
              "      <th>Oltv</th>\n",
              "      <th>Dti</th>\n",
              "      <th>Cscore_b</th>\n",
              "      <th>Fthb_flg</th>\n",
              "      <th>Purpose</th>\n",
              "      <th>Prop_typ</th>\n",
              "      <th>Num_unit</th>\n",
              "      <th>Occ_stat</th>\n",
              "      <th>Act_date</th>\n",
              "      <th>Curr_rte</th>\n",
              "      <th>Act_upb</th>\n",
              "      <th>Loan_age</th>\n",
              "      <th>Next_stat</th>\n",
              "      <th>GDP</th>\n",
              "      <th>HS</th>\n",
              "      <th>UMP</th>\n",
              "      <th>PPI</th>\n",
              "      <th>HPI</th>\n",
              "      <th>yqtr</th>\n",
              "      <th>p</th>\n",
              "    </tr>\n",
              "  </thead>\n",
              "  <tbody>\n",
              "    <tr>\n",
              "      <th>0</th>\n",
              "      <td>100193915350</td>\n",
              "      <td>119000</td>\n",
              "      <td>04/01/09</td>\n",
              "      <td>71</td>\n",
              "      <td>41.0</td>\n",
              "      <td>789</td>\n",
              "      <td>N</td>\n",
              "      <td>R</td>\n",
              "      <td>SF</td>\n",
              "      <td>1</td>\n",
              "      <td>P</td>\n",
              "      <td>06/01/15</td>\n",
              "      <td>4.500</td>\n",
              "      <td>105986.13</td>\n",
              "      <td>73</td>\n",
              "      <td>DEL</td>\n",
              "      <td>18219.405</td>\n",
              "      <td>1205</td>\n",
              "      <td>5.3</td>\n",
              "      <td>194.8</td>\n",
              "      <td>171.467</td>\n",
              "      <td>2015Q2</td>\n",
              "      <td>0</td>\n",
              "    </tr>\n",
              "    <tr>\n",
              "      <th>1</th>\n",
              "      <td>100193915350</td>\n",
              "      <td>119000</td>\n",
              "      <td>04/01/09</td>\n",
              "      <td>71</td>\n",
              "      <td>41.0</td>\n",
              "      <td>789</td>\n",
              "      <td>N</td>\n",
              "      <td>R</td>\n",
              "      <td>SF</td>\n",
              "      <td>1</td>\n",
              "      <td>P</td>\n",
              "      <td>09/01/15</td>\n",
              "      <td>4.500</td>\n",
              "      <td>105367.28</td>\n",
              "      <td>76</td>\n",
              "      <td>DEL</td>\n",
              "      <td>18344.713</td>\n",
              "      <td>1224</td>\n",
              "      <td>5.0</td>\n",
              "      <td>189.1</td>\n",
              "      <td>173.847</td>\n",
              "      <td>2015Q3</td>\n",
              "      <td>0</td>\n",
              "    </tr>\n",
              "    <tr>\n",
              "      <th>2</th>\n",
              "      <td>100193915350</td>\n",
              "      <td>119000</td>\n",
              "      <td>04/01/09</td>\n",
              "      <td>71</td>\n",
              "      <td>41.0</td>\n",
              "      <td>789</td>\n",
              "      <td>N</td>\n",
              "      <td>R</td>\n",
              "      <td>SF</td>\n",
              "      <td>1</td>\n",
              "      <td>P</td>\n",
              "      <td>12/01/15</td>\n",
              "      <td>4.500</td>\n",
              "      <td>104950.84</td>\n",
              "      <td>79</td>\n",
              "      <td>DEL</td>\n",
              "      <td>18350.825</td>\n",
              "      <td>1146</td>\n",
              "      <td>5.0</td>\n",
              "      <td>183.5</td>\n",
              "      <td>176.598</td>\n",
              "      <td>2015Q4</td>\n",
              "      <td>0</td>\n",
              "    </tr>\n",
              "    <tr>\n",
              "      <th>3</th>\n",
              "      <td>100413254871</td>\n",
              "      <td>90000</td>\n",
              "      <td>11/01/08</td>\n",
              "      <td>67</td>\n",
              "      <td>47.0</td>\n",
              "      <td>696</td>\n",
              "      <td>N</td>\n",
              "      <td>R</td>\n",
              "      <td>CO</td>\n",
              "      <td>1</td>\n",
              "      <td>P</td>\n",
              "      <td>10/01/10</td>\n",
              "      <td>6.375</td>\n",
              "      <td>87610.83</td>\n",
              "      <td>22</td>\n",
              "      <td>CUR</td>\n",
              "      <td>15240.843</td>\n",
              "      <td>543</td>\n",
              "      <td>9.4</td>\n",
              "      <td>186.6</td>\n",
              "      <td>142.526</td>\n",
              "      <td>2010Q4</td>\n",
              "      <td>0</td>\n",
              "    </tr>\n",
              "    <tr>\n",
              "      <th>4</th>\n",
              "      <td>100413254871</td>\n",
              "      <td>90000</td>\n",
              "      <td>11/01/08</td>\n",
              "      <td>67</td>\n",
              "      <td>47.0</td>\n",
              "      <td>696</td>\n",
              "      <td>N</td>\n",
              "      <td>R</td>\n",
              "      <td>CO</td>\n",
              "      <td>1</td>\n",
              "      <td>P</td>\n",
              "      <td>04/01/11</td>\n",
              "      <td>6.375</td>\n",
              "      <td>87031.41</td>\n",
              "      <td>28</td>\n",
              "      <td>CUR</td>\n",
              "      <td>15496.189</td>\n",
              "      <td>554</td>\n",
              "      <td>9.1</td>\n",
              "      <td>203.1</td>\n",
              "      <td>140.006</td>\n",
              "      <td>2011Q2</td>\n",
              "      <td>0</td>\n",
              "    </tr>\n",
              "  </tbody>\n",
              "</table>\n",
              "</div>"
            ],
            "text/plain": [
              "        Loan_id  Orig_amt  Orig_dte  Oltv   Dti  ...  UMP    PPI      HPI    yqtr  p\n",
              "0  100193915350    119000  04/01/09    71  41.0  ...  5.3  194.8  171.467  2015Q2  0\n",
              "1  100193915350    119000  04/01/09    71  41.0  ...  5.0  189.1  173.847  2015Q3  0\n",
              "2  100193915350    119000  04/01/09    71  41.0  ...  5.0  183.5  176.598  2015Q4  0\n",
              "3  100413254871     90000  11/01/08    67  47.0  ...  9.4  186.6  142.526  2010Q4  0\n",
              "4  100413254871     90000  11/01/08    67  47.0  ...  9.1  203.1  140.006  2011Q2  0\n",
              "\n",
              "[5 rows x 23 columns]"
            ]
          },
          "metadata": {
            "tags": []
          },
          "execution_count": 4
        }
      ]
    },
    {
      "cell_type": "code",
      "metadata": {
        "id": "rD4JKIxdJXhO",
        "colab_type": "code",
        "colab": {
          "base_uri": "https://localhost:8080/",
          "height": 215
        },
        "outputId": "28738d62-6d83-4f22-bc22-61e48a60848c"
      },
      "source": [
        "def flag(state):\n",
        "  if state == 'PPY':\n",
        "    return '-1'\n",
        "  elif state == 'CUR':\n",
        "    return '0'\n",
        "  elif state == 'DEL':\n",
        "    return '1'\n",
        "  else:\n",
        "    return '2'\n",
        "\n",
        "de['flag'] = de['Next_stat'].map(flag)\n",
        "\n",
        "de.head()"
      ],
      "execution_count": 5,
      "outputs": [
        {
          "output_type": "execute_result",
          "data": {
            "text/html": [
              "<div>\n",
              "<style scoped>\n",
              "    .dataframe tbody tr th:only-of-type {\n",
              "        vertical-align: middle;\n",
              "    }\n",
              "\n",
              "    .dataframe tbody tr th {\n",
              "        vertical-align: top;\n",
              "    }\n",
              "\n",
              "    .dataframe thead th {\n",
              "        text-align: right;\n",
              "    }\n",
              "</style>\n",
              "<table border=\"1\" class=\"dataframe\">\n",
              "  <thead>\n",
              "    <tr style=\"text-align: right;\">\n",
              "      <th></th>\n",
              "      <th>Loan_id</th>\n",
              "      <th>Orig_amt</th>\n",
              "      <th>Orig_dte</th>\n",
              "      <th>Oltv</th>\n",
              "      <th>Dti</th>\n",
              "      <th>Cscore_b</th>\n",
              "      <th>Fthb_flg</th>\n",
              "      <th>Purpose</th>\n",
              "      <th>Prop_typ</th>\n",
              "      <th>Num_unit</th>\n",
              "      <th>Occ_stat</th>\n",
              "      <th>Act_date</th>\n",
              "      <th>Curr_rte</th>\n",
              "      <th>Act_upb</th>\n",
              "      <th>Loan_age</th>\n",
              "      <th>Next_stat</th>\n",
              "      <th>GDP</th>\n",
              "      <th>HS</th>\n",
              "      <th>UMP</th>\n",
              "      <th>PPI</th>\n",
              "      <th>HPI</th>\n",
              "      <th>yqtr</th>\n",
              "      <th>p</th>\n",
              "      <th>flag</th>\n",
              "    </tr>\n",
              "  </thead>\n",
              "  <tbody>\n",
              "    <tr>\n",
              "      <th>0</th>\n",
              "      <td>100193915350</td>\n",
              "      <td>119000</td>\n",
              "      <td>04/01/09</td>\n",
              "      <td>71</td>\n",
              "      <td>41.0</td>\n",
              "      <td>789</td>\n",
              "      <td>N</td>\n",
              "      <td>R</td>\n",
              "      <td>SF</td>\n",
              "      <td>1</td>\n",
              "      <td>P</td>\n",
              "      <td>06/01/15</td>\n",
              "      <td>4.500</td>\n",
              "      <td>105986.13</td>\n",
              "      <td>73</td>\n",
              "      <td>DEL</td>\n",
              "      <td>18219.405</td>\n",
              "      <td>1205</td>\n",
              "      <td>5.3</td>\n",
              "      <td>194.8</td>\n",
              "      <td>171.467</td>\n",
              "      <td>2015Q2</td>\n",
              "      <td>0</td>\n",
              "      <td>1</td>\n",
              "    </tr>\n",
              "    <tr>\n",
              "      <th>1</th>\n",
              "      <td>100193915350</td>\n",
              "      <td>119000</td>\n",
              "      <td>04/01/09</td>\n",
              "      <td>71</td>\n",
              "      <td>41.0</td>\n",
              "      <td>789</td>\n",
              "      <td>N</td>\n",
              "      <td>R</td>\n",
              "      <td>SF</td>\n",
              "      <td>1</td>\n",
              "      <td>P</td>\n",
              "      <td>09/01/15</td>\n",
              "      <td>4.500</td>\n",
              "      <td>105367.28</td>\n",
              "      <td>76</td>\n",
              "      <td>DEL</td>\n",
              "      <td>18344.713</td>\n",
              "      <td>1224</td>\n",
              "      <td>5.0</td>\n",
              "      <td>189.1</td>\n",
              "      <td>173.847</td>\n",
              "      <td>2015Q3</td>\n",
              "      <td>0</td>\n",
              "      <td>1</td>\n",
              "    </tr>\n",
              "    <tr>\n",
              "      <th>2</th>\n",
              "      <td>100193915350</td>\n",
              "      <td>119000</td>\n",
              "      <td>04/01/09</td>\n",
              "      <td>71</td>\n",
              "      <td>41.0</td>\n",
              "      <td>789</td>\n",
              "      <td>N</td>\n",
              "      <td>R</td>\n",
              "      <td>SF</td>\n",
              "      <td>1</td>\n",
              "      <td>P</td>\n",
              "      <td>12/01/15</td>\n",
              "      <td>4.500</td>\n",
              "      <td>104950.84</td>\n",
              "      <td>79</td>\n",
              "      <td>DEL</td>\n",
              "      <td>18350.825</td>\n",
              "      <td>1146</td>\n",
              "      <td>5.0</td>\n",
              "      <td>183.5</td>\n",
              "      <td>176.598</td>\n",
              "      <td>2015Q4</td>\n",
              "      <td>0</td>\n",
              "      <td>1</td>\n",
              "    </tr>\n",
              "    <tr>\n",
              "      <th>3</th>\n",
              "      <td>100413254871</td>\n",
              "      <td>90000</td>\n",
              "      <td>11/01/08</td>\n",
              "      <td>67</td>\n",
              "      <td>47.0</td>\n",
              "      <td>696</td>\n",
              "      <td>N</td>\n",
              "      <td>R</td>\n",
              "      <td>CO</td>\n",
              "      <td>1</td>\n",
              "      <td>P</td>\n",
              "      <td>10/01/10</td>\n",
              "      <td>6.375</td>\n",
              "      <td>87610.83</td>\n",
              "      <td>22</td>\n",
              "      <td>CUR</td>\n",
              "      <td>15240.843</td>\n",
              "      <td>543</td>\n",
              "      <td>9.4</td>\n",
              "      <td>186.6</td>\n",
              "      <td>142.526</td>\n",
              "      <td>2010Q4</td>\n",
              "      <td>0</td>\n",
              "      <td>0</td>\n",
              "    </tr>\n",
              "    <tr>\n",
              "      <th>4</th>\n",
              "      <td>100413254871</td>\n",
              "      <td>90000</td>\n",
              "      <td>11/01/08</td>\n",
              "      <td>67</td>\n",
              "      <td>47.0</td>\n",
              "      <td>696</td>\n",
              "      <td>N</td>\n",
              "      <td>R</td>\n",
              "      <td>CO</td>\n",
              "      <td>1</td>\n",
              "      <td>P</td>\n",
              "      <td>04/01/11</td>\n",
              "      <td>6.375</td>\n",
              "      <td>87031.41</td>\n",
              "      <td>28</td>\n",
              "      <td>CUR</td>\n",
              "      <td>15496.189</td>\n",
              "      <td>554</td>\n",
              "      <td>9.1</td>\n",
              "      <td>203.1</td>\n",
              "      <td>140.006</td>\n",
              "      <td>2011Q2</td>\n",
              "      <td>0</td>\n",
              "      <td>0</td>\n",
              "    </tr>\n",
              "  </tbody>\n",
              "</table>\n",
              "</div>"
            ],
            "text/plain": [
              "        Loan_id  Orig_amt  Orig_dte  Oltv   Dti  ...    PPI      HPI    yqtr  p  flag\n",
              "0  100193915350    119000  04/01/09    71  41.0  ...  194.8  171.467  2015Q2  0     1\n",
              "1  100193915350    119000  04/01/09    71  41.0  ...  189.1  173.847  2015Q3  0     1\n",
              "2  100193915350    119000  04/01/09    71  41.0  ...  183.5  176.598  2015Q4  0     1\n",
              "3  100413254871     90000  11/01/08    67  47.0  ...  186.6  142.526  2010Q4  0     0\n",
              "4  100413254871     90000  11/01/08    67  47.0  ...  203.1  140.006  2011Q2  0     0\n",
              "\n",
              "[5 rows x 24 columns]"
            ]
          },
          "metadata": {
            "tags": []
          },
          "execution_count": 5
        }
      ]
    },
    {
      "cell_type": "code",
      "metadata": {
        "id": "ZF4BbZfp9QEC",
        "colab_type": "code",
        "colab": {}
      },
      "source": [
        "prime = de.loc[de['Cscore_b'] >= 760]\n",
        "sub_prime = de.loc[de['Cscore_b'] < 760]\n"
      ],
      "execution_count": null,
      "outputs": []
    },
    {
      "cell_type": "code",
      "metadata": {
        "id": "EJ-k62sVu2is",
        "colab_type": "code",
        "colab": {}
      },
      "source": [
        "'''test sample \n",
        "de_table = pd.pivot_table(de,index=[\"Orig_amt\"],values=[\"p\"],aggfunc=np.mean)\n",
        "de_table=de_table.replace(np.nan,0)\n",
        "plt.plot(de_table.index,de_table.values,'o',label='Orig_amt')"
      ],
      "execution_count": null,
      "outputs": []
    },
    {
      "cell_type": "code",
      "metadata": {
        "id": "-MGrHfxOrQWZ",
        "colab_type": "code",
        "colab": {}
      },
      "source": [
        "def plot(dataset,variable):\n",
        "  fig.add_subplot()\n",
        "  de_table = pd.pivot_table(dataset,index=[variable],values=[\"p\"],aggfunc=np.mean)\n",
        "  de_table=de_table.replace(np.nan,0)\n",
        "  plt.plot(de_table.index,de_table.values,'o')\n",
        "  plt.ylabel('Probability of Default')\n",
        "  plt.title(variable + '  ' +'data analysis')\n",
        "  plt.show()"
      ],
      "execution_count": null,
      "outputs": []
    },
    {
      "cell_type": "code",
      "metadata": {
        "id": "LmcD8DvxBpI6",
        "colab_type": "code",
        "colab": {
          "base_uri": "https://localhost:8080/",
          "height": 34
        },
        "outputId": "ad32466e-3968-4d49-89b5-c85b9ba40760"
      },
      "source": [
        "\n",
        "columns = ['Orig_amt',  'Oltv', 'Dti', 'Cscore_b', 'Fthb_flg', 'Purpose', 'Prop_typ', 'Occ_stat', 'Num_unit', \n",
        "       'Curr_rte', 'Act_upb', 'Loan_age', 'GDP', 'HS', 'UMP','PPI', 'HPI']\n",
        "n=len(columns)\n",
        "n"
      ],
      "execution_count": null,
      "outputs": [
        {
          "output_type": "execute_result",
          "data": {
            "text/plain": [
              "17"
            ]
          },
          "metadata": {
            "tags": []
          },
          "execution_count": 89
        }
      ]
    },
    {
      "cell_type": "code",
      "metadata": {
        "id": "tauHCoSe_sy0",
        "colab_type": "code",
        "colab": {
          "base_uri": "https://localhost:8080/",
          "height": 1000
        },
        "outputId": "0a888beb-fd11-42a8-bcb7-93cb3e339dc1"
      },
      "source": [
        "fig = plt.figure(1)\n",
        "for i in range(0,n): \n",
        "  col = columns[i]\n",
        "  plot(prime, col)\n",
        "  fig.savefig('multipleplots_sub_prime.png')"
      ],
      "execution_count": null,
      "outputs": [
        {
          "output_type": "display_data",
          "data": {
            "image/png": "[encoded data removed]",
            "text/plain": [
              "<Figure size 432x288 with 1 Axes>"
            ]
          },
          "metadata": {
            "tags": [],
            "needs_background": "light"
          }
        },
        {
          "output_type": "stream",
          "text": [
            "/usr/local/lib/python3.6/dist-packages/ipykernel_launcher.py:2: MatplotlibDeprecationWarning: Adding an axes using the same arguments as a previous axes currently reuses the earlier instance.  In a future version, a new instance will always be created and returned.  Meanwhile, this warning can be suppressed, and the future behavior ensured, by passing a unique label to each axes instance.\n",
            "  \n"
          ],
          "name": "stderr"
        },
        {
          "output_type": "display_data",
          "data": {
            "image/png": "[encoded data removed]",
            "text/plain": [
              "<Figure size 432x288 with 1 Axes>"
            ]
          },
          "metadata": {
            "tags": [],
            "needs_background": "light"
          }
        },
        {
          "output_type": "stream",
          "text": [
            "/usr/local/lib/python3.6/dist-packages/ipykernel_launcher.py:2: MatplotlibDeprecationWarning: Adding an axes using the same arguments as a previous axes currently reuses the earlier instance.  In a future version, a new instance will always be created and returned.  Meanwhile, this warning can be suppressed, and the future behavior ensured, by passing a unique label to each axes instance.\n",
            "  \n"
          ],
          "name": "stderr"
        },
        {
          "output_type": "display_data",
          "data": {
            "image/png": "[encoded data removed]",
            "text/plain": [
              "<Figure size 432x288 with 1 Axes>"
            ]
          },
          "metadata": {
            "tags": [],
            "needs_background": "light"
          }
        },
        {
          "output_type": "stream",
          "text": [
            "/usr/local/lib/python3.6/dist-packages/ipykernel_launcher.py:2: MatplotlibDeprecationWarning: Adding an axes using the same arguments as a previous axes currently reuses the earlier instance.  In a future version, a new instance will always be created and returned.  Meanwhile, this warning can be suppressed, and the future behavior ensured, by passing a unique label to each axes instance.\n",
            "  \n"
          ],
          "name": "stderr"
        },
        {
          "output_type": "display_data",
          "data": {
            "image/png": "[encoded data removed]",
            "text/plain": [
              "<Figure size 432x288 with 1 Axes>"
            ]
          },
          "metadata": {
            "tags": [],
            "needs_background": "light"
          }
        },
        {
          "output_type": "stream",
          "text": [
            "/usr/local/lib/python3.6/dist-packages/ipykernel_launcher.py:2: MatplotlibDeprecationWarning: Adding an axes using the same arguments as a previous axes currently reuses the earlier instance.  In a future version, a new instance will always be created and returned.  Meanwhile, this warning can be suppressed, and the future behavior ensured, by passing a unique label to each axes instance.\n",
            "  \n"
          ],
          "name": "stderr"
        },
        {
          "output_type": "display_data",
          "data": {
            "image/png": "[encoded data removed]",
            "text/plain": [
              "<Figure size 432x288 with 1 Axes>"
            ]
          },
          "metadata": {
            "tags": [],
            "needs_background": "light"
          }
        },
        {
          "output_type": "stream",
          "text": [
            "/usr/local/lib/python3.6/dist-packages/ipykernel_launcher.py:2: MatplotlibDeprecationWarning: Adding an axes using the same arguments as a previous axes currently reuses the earlier instance.  In a future version, a new instance will always be created and returned.  Meanwhile, this warning can be suppressed, and the future behavior ensured, by passing a unique label to each axes instance.\n",
            "  \n"
          ],
          "name": "stderr"
        },
        {
          "output_type": "display_data",
          "data": {
            "image/png": "[encoded data removed]",
            "text/plain": [
              "<Figure size 432x288 with 1 Axes>"
            ]
          },
          "metadata": {
            "tags": [],
            "needs_background": "light"
          }
        },
        {
          "output_type": "stream",
          "text": [
            "/usr/local/lib/python3.6/dist-packages/ipykernel_launcher.py:2: MatplotlibDeprecationWarning: Adding an axes using the same arguments as a previous axes currently reuses the earlier instance.  In a future version, a new instance will always be created and returned.  Meanwhile, this warning can be suppressed, and the future behavior ensured, by passing a unique label to each axes instance.\n",
            "  \n"
          ],
          "name": "stderr"
        },
        {
          "output_type": "display_data",
          "data": {
            "image/png": "[encoded data removed]",
            "text/plain": [
              "<Figure size 432x288 with 1 Axes>"
            ]
          },
          "metadata": {
            "tags": [],
            "needs_background": "light"
          }
        },
        {
          "output_type": "stream",
          "text": [
            "/usr/local/lib/python3.6/dist-packages/ipykernel_launcher.py:2: MatplotlibDeprecationWarning: Adding an axes using the same arguments as a previous axes currently reuses the earlier instance.  In a future version, a new instance will always be created and returned.  Meanwhile, this warning can be suppressed, and the future behavior ensured, by passing a unique label to each axes instance.\n",
            "  \n"
          ],
          "name": "stderr"
        },
        {
          "output_type": "display_data",
          "data": {
            "image/png": "[encoded data removed]",
            "text/plain": [
              "<Figure size 432x288 with 1 Axes>"
            ]
          },
          "metadata": {
            "tags": [],
            "needs_background": "light"
          }
        },
        {
          "output_type": "stream",
          "text": [
            "/usr/local/lib/python3.6/dist-packages/ipykernel_launcher.py:2: MatplotlibDeprecationWarning: Adding an axes using the same arguments as a previous axes currently reuses the earlier instance.  In a future version, a new instance will always be created and returned.  Meanwhile, this warning can be suppressed, and the future behavior ensured, by passing a unique label to each axes instance.\n",
            "  \n"
          ],
          "name": "stderr"
        },
        {
          "output_type": "display_data",
          "data": {
            "image/png": "[encoded data removed]",
            "text/plain": [
              "<Figure size 432x288 with 1 Axes>"
            ]
          },
          "metadata": {
            "tags": [],
            "needs_background": "light"
          }
        },
        {
          "output_type": "stream",
          "text": [
            "/usr/local/lib/python3.6/dist-packages/ipykernel_launcher.py:2: MatplotlibDeprecationWarning: Adding an axes using the same arguments as a previous axes currently reuses the earlier instance.  In a future version, a new instance will always be created and returned.  Meanwhile, this warning can be suppressed, and the future behavior ensured, by passing a unique label to each axes instance.\n",
            "  \n"
          ],
          "name": "stderr"
        },
        {
          "output_type": "display_data",
          "data": {
            "image/png": "[encoded data removed]",
            "text/plain": [
              "<Figure size 432x288 with 1 Axes>"
            ]
          },
          "metadata": {
            "tags": [],
            "needs_background": "light"
          }
        },
        {
          "output_type": "stream",
          "text": [
            "/usr/local/lib/python3.6/dist-packages/ipykernel_launcher.py:2: MatplotlibDeprecationWarning: Adding an axes using the same arguments as a previous axes currently reuses the earlier instance.  In a future version, a new instance will always be created and returned.  Meanwhile, this warning can be suppressed, and the future behavior ensured, by passing a unique label to each axes instance.\n",
            "  \n"
          ],
          "name": "stderr"
        },
        {
          "output_type": "display_data",
          "data": {
            "image/png": "[encoded data removed]",
            "text/plain": [
              "<Figure size 432x288 with 1 Axes>"
            ]
          },
          "metadata": {
            "tags": [],
            "needs_background": "light"
          }
        },
        {
          "output_type": "stream",
          "text": [
            "/usr/local/lib/python3.6/dist-packages/ipykernel_launcher.py:2: MatplotlibDeprecationWarning: Adding an axes using the same arguments as a previous axes currently reuses the earlier instance.  In a future version, a new instance will always be created and returned.  Meanwhile, this warning can be suppressed, and the future behavior ensured, by passing a unique label to each axes instance.\n",
            "  \n"
          ],
          "name": "stderr"
        },
        {
          "output_type": "display_data",
          "data": {
            "image/png": "[encoded data removed]",
            "text/plain": [
              "<Figure size 432x288 with 1 Axes>"
            ]
          },
          "metadata": {
            "tags": [],
            "needs_background": "light"
          }
        },
        {
          "output_type": "stream",
          "text": [
            "/usr/local/lib/python3.6/dist-packages/ipykernel_launcher.py:2: MatplotlibDeprecationWarning: Adding an axes using the same arguments as a previous axes currently reuses the earlier instance.  In a future version, a new instance will always be created and returned.  Meanwhile, this warning can be suppressed, and the future behavior ensured, by passing a unique label to each axes instance.\n",
            "  \n"
          ],
          "name": "stderr"
        },
        {
          "output_type": "display_data",
          "data": {
            "image/png": "[encoded data removed]",
            "text/plain": [
              "<Figure size 432x288 with 1 Axes>"
            ]
          },
          "metadata": {
            "tags": [],
            "needs_background": "light"
          }
        },
        {
          "output_type": "stream",
          "text": [
            "/usr/local/lib/python3.6/dist-packages/ipykernel_launcher.py:2: MatplotlibDeprecationWarning: Adding an axes using the same arguments as a previous axes currently reuses the earlier instance.  In a future version, a new instance will always be created and returned.  Meanwhile, this warning can be suppressed, and the future behavior ensured, by passing a unique label to each axes instance.\n",
            "  \n"
          ],
          "name": "stderr"
        },
        {
          "output_type": "display_data",
          "data": {
            "image/png": "[encoded data removed]",
            "text/plain": [
              "<Figure size 432x288 with 1 Axes>"
            ]
          },
          "metadata": {
            "tags": [],
            "needs_background": "light"
          }
        },
        {
          "output_type": "stream",
          "text": [
            "/usr/local/lib/python3.6/dist-packages/ipykernel_launcher.py:2: MatplotlibDeprecationWarning: Adding an axes using the same arguments as a previous axes currently reuses the earlier instance.  In a future version, a new instance will always be created and returned.  Meanwhile, this warning can be suppressed, and the future behavior ensured, by passing a unique label to each axes instance.\n",
            "  \n"
          ],
          "name": "stderr"
        },
        {
          "output_type": "display_data",
          "data": {
            "image/png": "[encoded data removed]",
            "text/plain": [
              "<Figure size 432x288 with 1 Axes>"
            ]
          },
          "metadata": {
            "tags": [],
            "needs_background": "light"
          }
        },
        {
          "output_type": "stream",
          "text": [
            "/usr/local/lib/python3.6/dist-packages/ipykernel_launcher.py:2: MatplotlibDeprecationWarning: Adding an axes using the same arguments as a previous axes currently reuses the earlier instance.  In a future version, a new instance will always be created and returned.  Meanwhile, this warning can be suppressed, and the future behavior ensured, by passing a unique label to each axes instance.\n",
            "  \n"
          ],
          "name": "stderr"
        },
        {
          "output_type": "display_data",
          "data": {
            "image/png": "[encoded data removed]",
            "text/plain": [
              "<Figure size 432x288 with 1 Axes>"
            ]
          },
          "metadata": {
            "tags": [],
            "needs_background": "light"
          }
        },
        {
          "output_type": "stream",
          "text": [
            "/usr/local/lib/python3.6/dist-packages/ipykernel_launcher.py:2: MatplotlibDeprecationWarning: Adding an axes using the same arguments as a previous axes currently reuses the earlier instance.  In a future version, a new instance will always be created and returned.  Meanwhile, this warning can be suppressed, and the future behavior ensured, by passing a unique label to each axes instance.\n",
            "  \n"
          ],
          "name": "stderr"
        },
        {
          "output_type": "display_data",
          "data": {
            "image/png": "[encoded data removed]",
            "text/plain": [
              "<Figure size 432x288 with 1 Axes>"
            ]
          },
          "metadata": {
            "tags": [],
            "needs_background": "light"
          }
        }
      ]
    },
    {
      "cell_type": "code",
      "metadata": {
        "id": "3cDX4Wr_rwug",
        "colab_type": "code",
        "colab": {
          "base_uri": "https://localhost:8080/",
          "height": 1000
        },
        "outputId": "0e94b977-4b16-4da5-b035-c959bdab9dc7"
      },
      "source": [
        "fig = plt.figure(2)\n",
        "for col in columns: \n",
        "  plot(prime, col)\n",
        "  fig.savefig('multipleplots_prime.png')\n"
      ],
      "execution_count": null,
      "outputs": [
        {
          "output_type": "display_data",
          "data": {
            "image/png": "[encoded data removed]",
            "text/plain": [
              "<Figure size 432x288 with 1 Axes>"
            ]
          },
          "metadata": {
            "tags": [],
            "needs_background": "light"
          }
        },
        {
          "output_type": "stream",
          "text": [
            "/usr/local/lib/python3.6/dist-packages/ipykernel_launcher.py:2: MatplotlibDeprecationWarning: Adding an axes using the same arguments as a previous axes currently reuses the earlier instance.  In a future version, a new instance will always be created and returned.  Meanwhile, this warning can be suppressed, and the future behavior ensured, by passing a unique label to each axes instance.\n",
            "  \n"
          ],
          "name": "stderr"
        },
        {
          "output_type": "display_data",
          "data": {
            "image/png": "[encoded data removed]",
            "text/plain": [
              "<Figure size 432x288 with 1 Axes>"
            ]
          },
          "metadata": {
            "tags": [],
            "needs_background": "light"
          }
        },
        {
          "output_type": "stream",
          "text": [
            "/usr/local/lib/python3.6/dist-packages/ipykernel_launcher.py:2: MatplotlibDeprecationWarning: Adding an axes using the same arguments as a previous axes currently reuses the earlier instance.  In a future version, a new instance will always be created and returned.  Meanwhile, this warning can be suppressed, and the future behavior ensured, by passing a unique label to each axes instance.\n",
            "  \n"
          ],
          "name": "stderr"
        },
        {
          "output_type": "display_data",
          "data": {
            "image/png": "[encoded data removed]",
            "text/plain": [
              "<Figure size 432x288 with 1 Axes>"
            ]
          },
          "metadata": {
            "tags": [],
            "needs_background": "light"
          }
        },
        {
          "output_type": "stream",
          "text": [
            "/usr/local/lib/python3.6/dist-packages/ipykernel_launcher.py:2: MatplotlibDeprecationWarning: Adding an axes using the same arguments as a previous axes currently reuses the earlier instance.  In a future version, a new instance will always be created and returned.  Meanwhile, this warning can be suppressed, and the future behavior ensured, by passing a unique label to each axes instance.\n",
            "  \n"
          ],
          "name": "stderr"
        },
        {
          "output_type": "display_data",
          "data": {
            "image/png": "[encoded data removed]",
            "text/plain": [
              "<Figure size 432x288 with 1 Axes>"
            ]
          },
          "metadata": {
            "tags": [],
            "needs_background": "light"
          }
        },
        {
          "output_type": "stream",
          "text": [
            "/usr/local/lib/python3.6/dist-packages/ipykernel_launcher.py:2: MatplotlibDeprecationWarning: Adding an axes using the same arguments as a previous axes currently reuses the earlier instance.  In a future version, a new instance will always be created and returned.  Meanwhile, this warning can be suppressed, and the future behavior ensured, by passing a unique label to each axes instance.\n",
            "  \n"
          ],
          "name": "stderr"
        },
        {
          "output_type": "display_data",
          "data": {
            "image/png": "[encoded data removed]",
            "text/plain": [
              "<Figure size 432x288 with 1 Axes>"
            ]
          },
          "metadata": {
            "tags": [],
            "needs_background": "light"
          }
        },
        {
          "output_type": "stream",
          "text": [
            "/usr/local/lib/python3.6/dist-packages/ipykernel_launcher.py:2: MatplotlibDeprecationWarning: Adding an axes using the same arguments as a previous axes currently reuses the earlier instance.  In a future version, a new instance will always be created and returned.  Meanwhile, this warning can be suppressed, and the future behavior ensured, by passing a unique label to each axes instance.\n",
            "  \n"
          ],
          "name": "stderr"
        },
        {
          "output_type": "display_data",
          "data": {
            "image/png": "[encoded data removed]",
            "text/plain": [
              "<Figure size 432x288 with 1 Axes>"
            ]
          },
          "metadata": {
            "tags": [],
            "needs_background": "light"
          }
        },
        {
          "output_type": "stream",
          "text": [
            "/usr/local/lib/python3.6/dist-packages/ipykernel_launcher.py:2: MatplotlibDeprecationWarning: Adding an axes using the same arguments as a previous axes currently reuses the earlier instance.  In a future version, a new instance will always be created and returned.  Meanwhile, this warning can be suppressed, and the future behavior ensured, by passing a unique label to each axes instance.\n",
            "  \n"
          ],
          "name": "stderr"
        },
        {
          "output_type": "display_data",
          "data": {
            "image/png": "[encoded data removed]",
            "text/plain": [
              "<Figure size 432x288 with 1 Axes>"
            ]
          },
          "metadata": {
            "tags": [],
            "needs_background": "light"
          }
        },
        {
          "output_type": "stream",
          "text": [
            "/usr/local/lib/python3.6/dist-packages/ipykernel_launcher.py:2: MatplotlibDeprecationWarning: Adding an axes using the same arguments as a previous axes currently reuses the earlier instance.  In a future version, a new instance will always be created and returned.  Meanwhile, this warning can be suppressed, and the future behavior ensured, by passing a unique label to each axes instance.\n",
            "  \n"
          ],
          "name": "stderr"
        },
        {
          "output_type": "display_data",
          "data": {
            "image/png": "[encoded data removed]",
            "text/plain": [
              "<Figure size 432x288 with 1 Axes>"
            ]
          },
          "metadata": {
            "tags": [],
            "needs_background": "light"
          }
        },
        {
          "output_type": "stream",
          "text": [
            "/usr/local/lib/python3.6/dist-packages/ipykernel_launcher.py:2: MatplotlibDeprecationWarning: Adding an axes using the same arguments as a previous axes currently reuses the earlier instance.  In a future version, a new instance will always be created and returned.  Meanwhile, this warning can be suppressed, and the future behavior ensured, by passing a unique label to each axes instance.\n",
            "  \n"
          ],
          "name": "stderr"
        },
        {
          "output_type": "display_data",
          "data": {
            "image/png": "[encoded data removed]",
            "text/plain": [
              "<Figure size 432x288 with 1 Axes>"
            ]
          },
          "metadata": {
            "tags": [],
            "needs_background": "light"
          }
        },
        {
          "output_type": "stream",
          "text": [
            "/usr/local/lib/python3.6/dist-packages/ipykernel_launcher.py:2: MatplotlibDeprecationWarning: Adding an axes using the same arguments as a previous axes currently reuses the earlier instance.  In a future version, a new instance will always be created and returned.  Meanwhile, this warning can be suppressed, and the future behavior ensured, by passing a unique label to each axes instance.\n",
            "  \n"
          ],
          "name": "stderr"
        },
        {
          "output_type": "display_data",
          "data": {
            "image/png": "[encoded data removed]",
            "text/plain": [
              "<Figure size 432x288 with 1 Axes>"
            ]
          },
          "metadata": {
            "tags": [],
            "needs_background": "light"
          }
        },
        {
          "output_type": "stream",
          "text": [
            "/usr/local/lib/python3.6/dist-packages/ipykernel_launcher.py:2: MatplotlibDeprecationWarning: Adding an axes using the same arguments as a previous axes currently reuses the earlier instance.  In a future version, a new instance will always be created and returned.  Meanwhile, this warning can be suppressed, and the future behavior ensured, by passing a unique label to each axes instance.\n",
            "  \n"
          ],
          "name": "stderr"
        },
        {
          "output_type": "display_data",
          "data": {
            "image/png": "[encoded data removed]",
            "text/plain": [
              "<Figure size 432x288 with 1 Axes>"
            ]
          },
          "metadata": {
            "tags": [],
            "needs_background": "light"
          }
        },
        {
          "output_type": "stream",
          "text": [
            "/usr/local/lib/python3.6/dist-packages/ipykernel_launcher.py:2: MatplotlibDeprecationWarning: Adding an axes using the same arguments as a previous axes currently reuses the earlier instance.  In a future version, a new instance will always be created and returned.  Meanwhile, this warning can be suppressed, and the future behavior ensured, by passing a unique label to each axes instance.\n",
            "  \n"
          ],
          "name": "stderr"
        },
        {
          "output_type": "display_data",
          "data": {
            "image/png": "[encoded data removed]",
            "text/plain": [
              "<Figure size 432x288 with 1 Axes>"
            ]
          },
          "metadata": {
            "tags": [],
            "needs_background": "light"
          }
        },
        {
          "output_type": "stream",
          "text": [
            "/usr/local/lib/python3.6/dist-packages/ipykernel_launcher.py:2: MatplotlibDeprecationWarning: Adding an axes using the same arguments as a previous axes currently reuses the earlier instance.  In a future version, a new instance will always be created and returned.  Meanwhile, this warning can be suppressed, and the future behavior ensured, by passing a unique label to each axes instance.\n",
            "  \n"
          ],
          "name": "stderr"
        },
        {
          "output_type": "display_data",
          "data": {
            "image/png": "[encoded data removed]",
            "text/plain": [
              "<Figure size 432x288 with 1 Axes>"
            ]
          },
          "metadata": {
            "tags": [],
            "needs_background": "light"
          }
        },
        {
          "output_type": "stream",
          "text": [
            "/usr/local/lib/python3.6/dist-packages/ipykernel_launcher.py:2: MatplotlibDeprecationWarning: Adding an axes using the same arguments as a previous axes currently reuses the earlier instance.  In a future version, a new instance will always be created and returned.  Meanwhile, this warning can be suppressed, and the future behavior ensured, by passing a unique label to each axes instance.\n",
            "  \n"
          ],
          "name": "stderr"
        },
        {
          "output_type": "display_data",
          "data": {
            "image/png": "[encoded data removed]",
            "text/plain": [
              "<Figure size 432x288 with 1 Axes>"
            ]
          },
          "metadata": {
            "tags": [],
            "needs_background": "light"
          }
        },
        {
          "output_type": "stream",
          "text": [
            "/usr/local/lib/python3.6/dist-packages/ipykernel_launcher.py:2: MatplotlibDeprecationWarning: Adding an axes using the same arguments as a previous axes currently reuses the earlier instance.  In a future version, a new instance will always be created and returned.  Meanwhile, this warning can be suppressed, and the future behavior ensured, by passing a unique label to each axes instance.\n",
            "  \n"
          ],
          "name": "stderr"
        },
        {
          "output_type": "display_data",
          "data": {
            "image/png": "[encoded data removed]",
            "text/plain": [
              "<Figure size 432x288 with 1 Axes>"
            ]
          },
          "metadata": {
            "tags": [],
            "needs_background": "light"
          }
        },
        {
          "output_type": "stream",
          "text": [
            "/usr/local/lib/python3.6/dist-packages/ipykernel_launcher.py:2: MatplotlibDeprecationWarning: Adding an axes using the same arguments as a previous axes currently reuses the earlier instance.  In a future version, a new instance will always be created and returned.  Meanwhile, this warning can be suppressed, and the future behavior ensured, by passing a unique label to each axes instance.\n",
            "  \n"
          ],
          "name": "stderr"
        },
        {
          "output_type": "display_data",
          "data": {
            "image/png": "[encoded data removed]",
            "text/plain": [
              "<Figure size 432x288 with 1 Axes>"
            ]
          },
          "metadata": {
            "tags": [],
            "needs_background": "light"
          }
        },
        {
          "output_type": "stream",
          "text": [
            "/usr/local/lib/python3.6/dist-packages/ipykernel_launcher.py:2: MatplotlibDeprecationWarning: Adding an axes using the same arguments as a previous axes currently reuses the earlier instance.  In a future version, a new instance will always be created and returned.  Meanwhile, this warning can be suppressed, and the future behavior ensured, by passing a unique label to each axes instance.\n",
            "  \n"
          ],
          "name": "stderr"
        },
        {
          "output_type": "display_data",
          "data": {
            "image/png": "[encoded data removed]",
            "text/plain": [
              "<Figure size 432x288 with 1 Axes>"
            ]
          },
          "metadata": {
            "tags": [],
            "needs_background": "light"
          }
        }
      ]
    },
    {
      "cell_type": "code",
      "metadata": {
        "id": "tzMiF4q5OHIo",
        "colab_type": "code",
        "colab": {}
      },
      "source": [
        "de = de.drop(['Loan_id','Orig_dte','Act_date','Next_stat','yqtr','p'],axis=1)"
      ],
      "execution_count": 22,
      "outputs": []
    },
    {
      "cell_type": "code",
      "metadata": {
        "id": "XcgvIyPPK900",
        "colab_type": "code",
        "colab": {}
      },
      "source": [
        "prime = de.loc[de['Cscore_b'] >= 760]\n",
        "sub_prime = de.loc[de['Cscore_b'] < 760]\n"
      ],
      "execution_count": 23,
      "outputs": []
    },
    {
      "cell_type": "code",
      "metadata": {
        "id": "OEssqfdxLPqN",
        "colab_type": "code",
        "colab": {
          "base_uri": "https://localhost:8080/",
          "height": 422
        },
        "outputId": "5abfb833-3b19-4318-de35-354c3881eab5"
      },
      "source": [
        "prime"
      ],
      "execution_count": 105,
      "outputs": [
        {
          "output_type": "execute_result",
          "data": {
            "text/html": [
              "<div>\n",
              "<style scoped>\n",
              "    .dataframe tbody tr th:only-of-type {\n",
              "        vertical-align: middle;\n",
              "    }\n",
              "\n",
              "    .dataframe tbody tr th {\n",
              "        vertical-align: top;\n",
              "    }\n",
              "\n",
              "    .dataframe thead th {\n",
              "        text-align: right;\n",
              "    }\n",
              "</style>\n",
              "<table border=\"1\" class=\"dataframe\">\n",
              "  <thead>\n",
              "    <tr style=\"text-align: right;\">\n",
              "      <th></th>\n",
              "      <th>Orig_amt</th>\n",
              "      <th>Oltv</th>\n",
              "      <th>Dti</th>\n",
              "      <th>Cscore_b</th>\n",
              "      <th>Fthb_flg</th>\n",
              "      <th>Purpose</th>\n",
              "      <th>Prop_typ</th>\n",
              "      <th>Num_unit</th>\n",
              "      <th>Occ_stat</th>\n",
              "      <th>Curr_rte</th>\n",
              "      <th>Act_upb</th>\n",
              "      <th>Loan_age</th>\n",
              "      <th>GDP</th>\n",
              "      <th>HS</th>\n",
              "      <th>UMP</th>\n",
              "      <th>PPI</th>\n",
              "      <th>HPI</th>\n",
              "      <th>flag</th>\n",
              "    </tr>\n",
              "  </thead>\n",
              "  <tbody>\n",
              "    <tr>\n",
              "      <th>0</th>\n",
              "      <td>119000</td>\n",
              "      <td>71</td>\n",
              "      <td>41.0</td>\n",
              "      <td>789</td>\n",
              "      <td>N</td>\n",
              "      <td>R</td>\n",
              "      <td>SF</td>\n",
              "      <td>1</td>\n",
              "      <td>P</td>\n",
              "      <td>4.500</td>\n",
              "      <td>105986.13</td>\n",
              "      <td>73</td>\n",
              "      <td>18219.405</td>\n",
              "      <td>1205</td>\n",
              "      <td>5.3</td>\n",
              "      <td>194.8</td>\n",
              "      <td>171.467</td>\n",
              "      <td>1</td>\n",
              "    </tr>\n",
              "    <tr>\n",
              "      <th>1</th>\n",
              "      <td>119000</td>\n",
              "      <td>71</td>\n",
              "      <td>41.0</td>\n",
              "      <td>789</td>\n",
              "      <td>N</td>\n",
              "      <td>R</td>\n",
              "      <td>SF</td>\n",
              "      <td>1</td>\n",
              "      <td>P</td>\n",
              "      <td>4.500</td>\n",
              "      <td>105367.28</td>\n",
              "      <td>76</td>\n",
              "      <td>18344.713</td>\n",
              "      <td>1224</td>\n",
              "      <td>5.0</td>\n",
              "      <td>189.1</td>\n",
              "      <td>173.847</td>\n",
              "      <td>1</td>\n",
              "    </tr>\n",
              "    <tr>\n",
              "      <th>2</th>\n",
              "      <td>119000</td>\n",
              "      <td>71</td>\n",
              "      <td>41.0</td>\n",
              "      <td>789</td>\n",
              "      <td>N</td>\n",
              "      <td>R</td>\n",
              "      <td>SF</td>\n",
              "      <td>1</td>\n",
              "      <td>P</td>\n",
              "      <td>4.500</td>\n",
              "      <td>104950.84</td>\n",
              "      <td>79</td>\n",
              "      <td>18350.825</td>\n",
              "      <td>1146</td>\n",
              "      <td>5.0</td>\n",
              "      <td>183.5</td>\n",
              "      <td>176.598</td>\n",
              "      <td>1</td>\n",
              "    </tr>\n",
              "    <tr>\n",
              "      <th>23</th>\n",
              "      <td>96000</td>\n",
              "      <td>60</td>\n",
              "      <td>38.0</td>\n",
              "      <td>766</td>\n",
              "      <td>N</td>\n",
              "      <td>R</td>\n",
              "      <td>SF</td>\n",
              "      <td>1</td>\n",
              "      <td>P</td>\n",
              "      <td>5.000</td>\n",
              "      <td>79220.60</td>\n",
              "      <td>43</td>\n",
              "      <td>16257.151</td>\n",
              "      <td>847</td>\n",
              "      <td>7.8</td>\n",
              "      <td>204.4</td>\n",
              "      <td>142.908</td>\n",
              "      <td>0</td>\n",
              "    </tr>\n",
              "    <tr>\n",
              "      <th>27</th>\n",
              "      <td>189000</td>\n",
              "      <td>90</td>\n",
              "      <td>42.0</td>\n",
              "      <td>773</td>\n",
              "      <td>N</td>\n",
              "      <td>P</td>\n",
              "      <td>CO</td>\n",
              "      <td>1</td>\n",
              "      <td>S</td>\n",
              "      <td>5.875</td>\n",
              "      <td>143959.09</td>\n",
              "      <td>97</td>\n",
              "      <td>18991.883</td>\n",
              "      <td>1267</td>\n",
              "      <td>4.7</td>\n",
              "      <td>188.2</td>\n",
              "      <td>185.790</td>\n",
              "      <td>0</td>\n",
              "    </tr>\n",
              "    <tr>\n",
              "      <th>...</th>\n",
              "      <td>...</td>\n",
              "      <td>...</td>\n",
              "      <td>...</td>\n",
              "      <td>...</td>\n",
              "      <td>...</td>\n",
              "      <td>...</td>\n",
              "      <td>...</td>\n",
              "      <td>...</td>\n",
              "      <td>...</td>\n",
              "      <td>...</td>\n",
              "      <td>...</td>\n",
              "      <td>...</td>\n",
              "      <td>...</td>\n",
              "      <td>...</td>\n",
              "      <td>...</td>\n",
              "      <td>...</td>\n",
              "      <td>...</td>\n",
              "      <td>...</td>\n",
              "    </tr>\n",
              "    <tr>\n",
              "      <th>11690</th>\n",
              "      <td>315000</td>\n",
              "      <td>78</td>\n",
              "      <td>41.0</td>\n",
              "      <td>791</td>\n",
              "      <td>N</td>\n",
              "      <td>C</td>\n",
              "      <td>PU</td>\n",
              "      <td>1</td>\n",
              "      <td>P</td>\n",
              "      <td>4.875</td>\n",
              "      <td>270605.37</td>\n",
              "      <td>96</td>\n",
              "      <td>19918.910</td>\n",
              "      <td>1199</td>\n",
              "      <td>4.1</td>\n",
              "      <td>196.3</td>\n",
              "      <td>197.194</td>\n",
              "      <td>1</td>\n",
              "    </tr>\n",
              "    <tr>\n",
              "      <th>11712</th>\n",
              "      <td>278000</td>\n",
              "      <td>95</td>\n",
              "      <td>39.0</td>\n",
              "      <td>768</td>\n",
              "      <td>N</td>\n",
              "      <td>P</td>\n",
              "      <td>PU</td>\n",
              "      <td>1</td>\n",
              "      <td>P</td>\n",
              "      <td>3.625</td>\n",
              "      <td>262707.37</td>\n",
              "      <td>31</td>\n",
              "      <td>18350.825</td>\n",
              "      <td>1146</td>\n",
              "      <td>5.0</td>\n",
              "      <td>183.5</td>\n",
              "      <td>176.598</td>\n",
              "      <td>0</td>\n",
              "    </tr>\n",
              "    <tr>\n",
              "      <th>11735</th>\n",
              "      <td>152000</td>\n",
              "      <td>95</td>\n",
              "      <td>29.0</td>\n",
              "      <td>774</td>\n",
              "      <td>N</td>\n",
              "      <td>R</td>\n",
              "      <td>SF</td>\n",
              "      <td>1</td>\n",
              "      <td>P</td>\n",
              "      <td>5.000</td>\n",
              "      <td>152000.00</td>\n",
              "      <td>4</td>\n",
              "      <td>16152.257</td>\n",
              "      <td>757</td>\n",
              "      <td>8.2</td>\n",
              "      <td>199.8</td>\n",
              "      <td>141.027</td>\n",
              "      <td>0</td>\n",
              "    </tr>\n",
              "    <tr>\n",
              "      <th>11736</th>\n",
              "      <td>343000</td>\n",
              "      <td>80</td>\n",
              "      <td>29.0</td>\n",
              "      <td>807</td>\n",
              "      <td>Y</td>\n",
              "      <td>P</td>\n",
              "      <td>CO</td>\n",
              "      <td>1</td>\n",
              "      <td>P</td>\n",
              "      <td>4.250</td>\n",
              "      <td>322892.84</td>\n",
              "      <td>33</td>\n",
              "      <td>20510.177</td>\n",
              "      <td>1190</td>\n",
              "      <td>4.0</td>\n",
              "      <td>204.2</td>\n",
              "      <td>202.380</td>\n",
              "      <td>0</td>\n",
              "    </tr>\n",
              "    <tr>\n",
              "      <th>11750</th>\n",
              "      <td>200000</td>\n",
              "      <td>52</td>\n",
              "      <td>43.0</td>\n",
              "      <td>817</td>\n",
              "      <td>N</td>\n",
              "      <td>R</td>\n",
              "      <td>PU</td>\n",
              "      <td>1</td>\n",
              "      <td>P</td>\n",
              "      <td>4.500</td>\n",
              "      <td>198940.58</td>\n",
              "      <td>6</td>\n",
              "      <td>17432.909</td>\n",
              "      <td>911</td>\n",
              "      <td>6.1</td>\n",
              "      <td>208.3</td>\n",
              "      <td>164.062</td>\n",
              "      <td>0</td>\n",
              "    </tr>\n",
              "  </tbody>\n",
              "</table>\n",
              "<p>2236 rows × 18 columns</p>\n",
              "</div>"
            ],
            "text/plain": [
              "       Orig_amt  Oltv   Dti  Cscore_b Fthb_flg  ...    HS  UMP    PPI      HPI  flag\n",
              "0        119000    71  41.0       789        N  ...  1205  5.3  194.8  171.467     1\n",
              "1        119000    71  41.0       789        N  ...  1224  5.0  189.1  173.847     1\n",
              "2        119000    71  41.0       789        N  ...  1146  5.0  183.5  176.598     1\n",
              "23        96000    60  38.0       766        N  ...   847  7.8  204.4  142.908     0\n",
              "27       189000    90  42.0       773        N  ...  1267  4.7  188.2  185.790     0\n",
              "...         ...   ...   ...       ...      ...  ...   ...  ...    ...      ...   ...\n",
              "11690    315000    78  41.0       791        N  ...  1199  4.1  196.3  197.194     1\n",
              "11712    278000    95  39.0       768        N  ...  1146  5.0  183.5  176.598     0\n",
              "11735    152000    95  29.0       774        N  ...   757  8.2  199.8  141.027     0\n",
              "11736    343000    80  29.0       807        Y  ...  1190  4.0  204.2  202.380     0\n",
              "11750    200000    52  43.0       817        N  ...   911  6.1  208.3  164.062     0\n",
              "\n",
              "[2236 rows x 18 columns]"
            ]
          },
          "metadata": {
            "tags": []
          },
          "execution_count": 105
        }
      ]
    },
    {
      "cell_type": "code",
      "metadata": {
        "id": "ClNFARz9MH4z",
        "colab_type": "code",
        "colab": {
          "base_uri": "https://localhost:8080/",
          "height": 84
        },
        "outputId": "99cbae3e-b5e8-4961-dc6c-56858e62b753"
      },
      "source": [
        "sample2_Pri = prime\n",
        "sample2_Pri.columns"
      ],
      "execution_count": 25,
      "outputs": [
        {
          "output_type": "execute_result",
          "data": {
            "text/plain": [
              "Index(['Orig_amt', 'Oltv', 'Dti', 'Cscore_b', 'Fthb_flg', 'Purpose',\n",
              "       'Prop_typ', 'Num_unit', 'Occ_stat', 'Curr_rte', 'Act_upb', 'Loan_age',\n",
              "       'GDP', 'HS', 'UMP', 'PPI', 'HPI', 'flag'],\n",
              "      dtype='object')"
            ]
          },
          "metadata": {
            "tags": []
          },
          "execution_count": 25
        }
      ]
    },
    {
      "cell_type": "code",
      "metadata": {
        "id": "aq3TQW-jLVrj",
        "colab_type": "code",
        "colab": {}
      },
      "source": [
        "\n",
        "sampleNext = prime.loc[:,['Orig_amt', 'Oltv', 'Dti', 'Cscore_b', 'Fthb_flg', 'Purpose',\n",
        "       'Prop_typ', 'Num_unit', 'Occ_stat', 'Curr_rte', 'Act_upb', 'Loan_age',\n",
        "       'GDP', 'HS', 'UMP', 'PPI', 'HPI', 'flag']]\n",
        "sampledes = sampleNext.describe()\n",
        "\n",
        "dummy_Purpose = pd.get_dummies(sampleNext['Purpose'], prefix = 'Purpose')\n",
        "dummy_Purpose = dummy_Purpose.drop(['Purpose_C'],axis = 1)\n",
        "\n",
        "dummy_Prop_typ = pd.get_dummies(sampleNext['Prop_typ'], prefix = 'Prop_typ')\n",
        "dummy_Prop_typ = dummy_Prop_typ.drop(['Prop_typ_CO'],axis = 1)\n",
        "\n",
        "dummy_Occ_stat = pd.get_dummies(sampleNext['Occ_stat'], prefix = 'Occ_stat')\n",
        "dummy_Occ_stat = dummy_Occ_stat.drop(['Occ_stat_I'],axis = 1)\n",
        "\n",
        "dummy_Fthb_flg = pd.get_dummies(sampleNext['Fthb_flg'], prefix = 'Fthb_flg')\n",
        "dummy_Fthb_flg = dummy_Fthb_flg.drop(['Fthb_flg_N'],axis = 1)\n",
        "\n",
        "dummy_Num_unit = pd.get_dummies(sampleNext['Num_unit'], prefix = 'Num_unit')\n",
        "dummy_Num_unit = dummy_Num_unit.drop(['Num_unit_1'],axis = 1)\n",
        "\n",
        "\n",
        "sampleNext = pd.concat([sampleNext, dummy_Purpose, dummy_Prop_typ, dummy_Occ_stat, dummy_Fthb_flg, dummy_Num_unit], axis = 1)\n",
        "\n",
        "sampleNext = sampleNext.drop(['Purpose','Prop_typ', 'Occ_stat', 'Fthb_flg', 'Num_unit'],axis = 1)\n"
      ],
      "execution_count": 115,
      "outputs": []
    },
    {
      "cell_type": "code",
      "metadata": {
        "id": "GyTVYuk-UaRU",
        "colab_type": "code",
        "colab": {
          "base_uri": "https://localhost:8080/",
          "height": 118
        },
        "outputId": "effeee5f-1b76-4ee5-8c8b-0715ff417e0c"
      },
      "source": [
        "sampleNext.columns"
      ],
      "execution_count": 116,
      "outputs": [
        {
          "output_type": "execute_result",
          "data": {
            "text/plain": [
              "Index(['Orig_amt', 'Oltv', 'Dti', 'Cscore_b', 'Curr_rte', 'Act_upb',\n",
              "       'Loan_age', 'GDP', 'HS', 'UMP', 'PPI', 'HPI', 'flag', 'Purpose_P',\n",
              "       'Purpose_R', 'Prop_typ_CP', 'Prop_typ_MH', 'Prop_typ_PU', 'Prop_typ_SF',\n",
              "       'Occ_stat_P', 'Occ_stat_S', 'Fthb_flg_Y', 'Num_unit_2', 'Num_unit_3',\n",
              "       'Num_unit_4'],\n",
              "      dtype='object')"
            ]
          },
          "metadata": {
            "tags": []
          },
          "execution_count": 116
        }
      ]
    },
    {
      "cell_type": "code",
      "metadata": {
        "id": "BDvgnTKtUTGx",
        "colab_type": "code",
        "colab": {}
      },
      "source": [
        "sampleNext=sampleNext.drop([  'Purpose_P', 'Purpose_R', 'Occ_stat_P', 'Occ_stat_S', 'Fthb_flg_Y', 'Num_unit_2', 'Num_unit_3',\n",
        "       'Num_unit_4'], axis=1)"
      ],
      "execution_count": 117,
      "outputs": []
    },
    {
      "cell_type": "code",
      "metadata": {
        "id": "pdsycsK6VZYn",
        "colab_type": "code",
        "colab": {
          "base_uri": "https://localhost:8080/",
          "height": 84
        },
        "outputId": "682e9590-f2cf-42ba-d0dd-e12ee57820a2"
      },
      "source": [
        "sampleNext.columns"
      ],
      "execution_count": 118,
      "outputs": [
        {
          "output_type": "execute_result",
          "data": {
            "text/plain": [
              "Index(['Orig_amt', 'Oltv', 'Dti', 'Cscore_b', 'Curr_rte', 'Act_upb',\n",
              "       'Loan_age', 'GDP', 'HS', 'UMP', 'PPI', 'HPI', 'flag', 'Prop_typ_CP',\n",
              "       'Prop_typ_MH', 'Prop_typ_PU', 'Prop_typ_SF'],\n",
              "      dtype='object')"
            ]
          },
          "metadata": {
            "tags": []
          },
          "execution_count": 118
        }
      ]
    },
    {
      "cell_type": "code",
      "metadata": {
        "id": "BYVK43stPdp_",
        "colab_type": "code",
        "colab": {}
      },
      "source": [
        "#standardlized some of the Macro(equal scale & converge problem)\n",
        "sampleNext['GDP'] = sampleNext['GDP'].map(lambda x: (x - sampledes['GDP']['mean'])/sampledes['GDP']['std'])\n",
        "sampleNext['HS'] = sampleNext['HS'].map(lambda x: (x - sampledes['HS']['mean'])/sampledes['HS']['std'])\n"
      ],
      "execution_count": 119,
      "outputs": []
    },
    {
      "cell_type": "code",
      "metadata": {
        "id": "9_6MNjImf424",
        "colab_type": "code",
        "colab": {
          "base_uri": "https://localhost:8080/",
          "height": 638
        },
        "outputId": "ad9e91da-0ec8-4127-cf2c-5f8fef2c1045"
      },
      "source": [
        "#Logistic Regression simple\n",
        "sampleNext = sampleNext.dropna()\n",
        "dy2 = sampleNext['flag']\n",
        "dx2 = sampleNext[['Oltv','Cscore_b','Curr_rte','Loan_age','HPI']]\n",
        "import statsmodels.api as st\n",
        "mdl = st.MNLogit(dy2, dx2)\n",
        "mdl_fit = mdl.fit()\n",
        "print (mdl_fit.summary())"
      ],
      "execution_count": 114,
      "outputs": [
        {
          "output_type": "stream",
          "text": [
            "Optimization terminated successfully.\n",
            "         Current function value: 0.948046\n",
            "         Iterations 6\n",
            "                          MNLogit Regression Results                          \n",
            "==============================================================================\n",
            "Dep. Variable:                   flag   No. Observations:                 2212\n",
            "Model:                        MNLogit   Df Residuals:                     2197\n",
            "Method:                           MLE   Df Model:                           12\n",
            "Date:                Fri, 26 Jun 2020   Pseudo R-squ.:                 0.05324\n",
            "Time:                        12:12:22   Log-Likelihood:                -2097.1\n",
            "converged:                       True   LL-Null:                       -2215.0\n",
            "Covariance Type:            nonrobust   LLR p-value:                 1.213e-43\n",
            "==============================================================================\n",
            "    flag=0       coef    std err          z      P>|z|      [0.025      0.975]\n",
            "------------------------------------------------------------------------------\n",
            "Oltv           0.0130      0.005      2.427      0.015       0.002       0.023\n",
            "Cscore_b       0.0047      0.002      2.568      0.010       0.001       0.008\n",
            "Curr_rte      -0.3468      0.132     -2.628      0.009      -0.605      -0.088\n",
            "Loan_age      -0.0002      0.005     -0.034      0.973      -0.010       0.010\n",
            "HPI           -0.0031      0.007     -0.439      0.660      -0.017       0.011\n",
            "------------------------------------------------------------------------------\n",
            "    flag=1       coef    std err          z      P>|z|      [0.025      0.975]\n",
            "------------------------------------------------------------------------------\n",
            "Oltv           0.0290      0.006      5.012      0.000       0.018       0.040\n",
            "Cscore_b      -0.0006      0.002     -0.305      0.760      -0.004       0.003\n",
            "Curr_rte      -0.0858      0.138     -0.621      0.535      -0.356       0.185\n",
            "Loan_age       0.0120      0.005      2.209      0.027       0.001       0.023\n",
            "HPI           -0.0002      0.007     -0.026      0.979      -0.014       0.014\n",
            "------------------------------------------------------------------------------\n",
            "    flag=2       coef    std err          z      P>|z|      [0.025      0.975]\n",
            "------------------------------------------------------------------------------\n",
            "Oltv           0.0424      0.009      4.945      0.000       0.026       0.059\n",
            "Cscore_b       0.0045      0.002      1.808      0.071      -0.000       0.009\n",
            "Curr_rte      -0.0495      0.173     -0.286      0.775      -0.389       0.290\n",
            "Loan_age       0.0247      0.007      3.486      0.000       0.011       0.039\n",
            "HPI           -0.0436      0.010     -4.531      0.000      -0.063      -0.025\n",
            "==============================================================================\n"
          ],
          "name": "stdout"
        }
      ]
    },
    {
      "cell_type": "code",
      "metadata": {
        "id": "TuFFi01Zf4vY",
        "colab_type": "code",
        "colab": {}
      },
      "source": [
        ""
      ],
      "execution_count": null,
      "outputs": []
    },
    {
      "cell_type": "code",
      "metadata": {
        "id": "tMIeKFIMT02T",
        "colab_type": "code",
        "colab": {
          "base_uri": "https://localhost:8080/",
          "height": 1000
        },
        "outputId": "9f22fe2d-66ff-46bc-b3fb-69e430b9a046"
      },
      "source": [
        "#Logistic Regression\n",
        "sampleNext = sampleNext.dropna()\n",
        "dy = sampleNext['flag']\n",
        "dx = sampleNext.drop(['flag'],axis = 1)\n",
        "import statsmodels.api as st\n",
        "mdl = st.MNLogit(dy, dx)\n",
        "mdl_fit = mdl.fit()\n",
        "print(mdl_fit.summary())"
      ],
      "execution_count": 120,
      "outputs": [
        {
          "output_type": "stream",
          "text": [
            "Warning: Maximum number of iterations has been exceeded.\n",
            "         Current function value: 0.924879\n",
            "         Iterations: 35\n"
          ],
          "name": "stdout"
        },
        {
          "output_type": "stream",
          "text": [
            "/usr/local/lib/python3.6/dist-packages/statsmodels/base/model.py:512: ConvergenceWarning: Maximum Likelihood optimization failed to converge. Check mle_retvals\n",
            "  \"Check mle_retvals\", ConvergenceWarning)\n"
          ],
          "name": "stderr"
        },
        {
          "output_type": "stream",
          "text": [
            "                          MNLogit Regression Results                          \n",
            "==============================================================================\n",
            "Dep. Variable:                   flag   No. Observations:                 2212\n",
            "Model:                        MNLogit   Df Residuals:                     2164\n",
            "Method:                           MLE   Df Model:                           45\n",
            "Date:                Fri, 26 Jun 2020   Pseudo R-squ.:                 0.07637\n",
            "Time:                        12:18:32   Log-Likelihood:                -2045.8\n",
            "converged:                      False   LL-Null:                       -2215.0\n",
            "Covariance Type:            nonrobust   LLR p-value:                 1.322e-46\n",
            "===============================================================================\n",
            "     flag=0       coef    std err          z      P>|z|      [0.025      0.975]\n",
            "-------------------------------------------------------------------------------\n",
            "Orig_amt     8.049e-07   5.55e-06      0.145      0.885   -1.01e-05    1.17e-05\n",
            "Oltv            0.0121      0.006      2.152      0.031       0.001       0.023\n",
            "Dti             0.0085      0.010      0.852      0.394      -0.011       0.028\n",
            "Cscore_b       -0.0096      0.005     -1.900      0.057      -0.020       0.000\n",
            "Curr_rte       -0.5218      0.174     -3.003      0.003      -0.862      -0.181\n",
            "Act_upb     -2.614e-07    5.9e-06     -0.044      0.965   -1.18e-05    1.13e-05\n",
            "Loan_age        0.0048      0.007      0.738      0.461      -0.008       0.018\n",
            "GDP            -1.0437      0.514     -2.030      0.042      -2.051      -0.036\n",
            "HS              0.0706      0.304      0.232      0.816      -0.525       0.666\n",
            "UMP            -0.0306      0.237     -0.129      0.897      -0.494       0.433\n",
            "PPI             0.0308      0.012      2.478      0.013       0.006       0.055\n",
            "HPI             0.0267      0.015      1.732      0.083      -0.004       0.057\n",
            "Prop_typ_CP     1.3122      1.075      1.221      0.222      -0.795       3.419\n",
            "Prop_typ_MH    23.2962   1.17e+05      0.000      1.000   -2.29e+05    2.29e+05\n",
            "Prop_typ_PU     0.3220      0.349      0.922      0.357      -0.363       1.007\n",
            "Prop_typ_SF     0.5918      0.302      1.963      0.050       0.001       1.183\n",
            "-------------------------------------------------------------------------------\n",
            "     flag=1       coef    std err          z      P>|z|      [0.025      0.975]\n",
            "-------------------------------------------------------------------------------\n",
            "Orig_amt    -6.859e-06    6.1e-06     -1.124      0.261   -1.88e-05     5.1e-06\n",
            "Oltv            0.0268      0.006      4.402      0.000       0.015       0.039\n",
            "Dti             0.0343      0.011      3.248      0.001       0.014       0.055\n",
            "Cscore_b       -0.0173      0.005     -3.238      0.001      -0.028      -0.007\n",
            "Curr_rte       -0.4360      0.184     -2.374      0.018      -0.796      -0.076\n",
            "Act_upb      6.074e-06    6.5e-06      0.934      0.350   -6.67e-06    1.88e-05\n",
            "Loan_age        0.0200      0.007      2.895      0.004       0.006       0.034\n",
            "GDP            -0.5466      0.548     -0.998      0.318      -1.620       0.527\n",
            "HS              0.1219      0.321      0.380      0.704      -0.507       0.751\n",
            "UMP             0.2971      0.251      1.184      0.236      -0.195       0.789\n",
            "PPI             0.0290      0.013      2.214      0.027       0.003       0.055\n",
            "HPI             0.0320      0.016      1.957      0.050   -4.88e-05       0.064\n",
            "Prop_typ_CP     0.3358      1.208      0.278      0.781      -2.031       2.703\n",
            "Prop_typ_MH    23.8323   1.17e+05      0.000      1.000   -2.29e+05    2.29e+05\n",
            "Prop_typ_PU     0.2665      0.371      0.718      0.473      -0.461       0.994\n",
            "Prop_typ_SF     0.7748      0.319      2.429      0.015       0.150       1.400\n",
            "-------------------------------------------------------------------------------\n",
            "     flag=2       coef    std err          z      P>|z|      [0.025      0.975]\n",
            "-------------------------------------------------------------------------------\n",
            "Orig_amt    -1.162e-06   8.54e-06     -0.136      0.892   -1.79e-05    1.56e-05\n",
            "Oltv            0.0433      0.009      4.789      0.000       0.026       0.061\n",
            "Dti             0.0222      0.013      1.732      0.083      -0.003       0.047\n",
            "Cscore_b       -0.0003      0.007     -0.041      0.967      -0.014       0.013\n",
            "Curr_rte       -0.4053      0.231     -1.754      0.079      -0.858       0.048\n",
            "Act_upb      1.916e-06   9.05e-06      0.212      0.832   -1.58e-05    1.96e-05\n",
            "Loan_age        0.0336      0.009      3.582      0.000       0.015       0.052\n",
            "GDP             0.0582      0.750      0.078      0.938      -1.411       1.528\n",
            "HS             -0.5324      0.397     -1.340      0.180      -1.311       0.246\n",
            "UMP             0.0906      0.310      0.293      0.770      -0.516       0.697\n",
            "PPI             0.0031      0.016      0.191      0.848      -0.029       0.035\n",
            "HPI            -0.0281      0.020     -1.388      0.165      -0.068       0.012\n",
            "Prop_typ_CP     0.1188      1.478      0.080      0.936      -2.779       3.016\n",
            "Prop_typ_MH    23.3939   1.17e+05      0.000      1.000   -2.29e+05    2.29e+05\n",
            "Prop_typ_PU    -0.2693      0.458     -0.588      0.556      -1.166       0.628\n",
            "Prop_typ_SF     0.3091      0.383      0.808      0.419      -0.441       1.059\n",
            "===============================================================================\n"
          ],
          "name": "stdout"
        }
      ]
    },
    {
      "cell_type": "code",
      "metadata": {
        "id": "R5PgLqtObKeZ",
        "colab_type": "code",
        "colab": {
          "base_uri": "https://localhost:8080/",
          "height": 84
        },
        "outputId": "cb5c6888-e659-4393-b8e2-fa1168981777"
      },
      "source": [
        "prime.columns"
      ],
      "execution_count": 64,
      "outputs": [
        {
          "output_type": "execute_result",
          "data": {
            "text/plain": [
              "Index(['Orig_amt', 'Oltv', 'Dti', 'Cscore_b', 'Fthb_flg', 'Purpose',\n",
              "       'Prop_typ', 'Num_unit', 'Occ_stat', 'Curr_rte', 'Act_upb', 'Loan_age',\n",
              "       'GDP', 'HS', 'UMP', 'PPI', 'HPI', 'flag'],\n",
              "      dtype='object')"
            ]
          },
          "metadata": {
            "tags": []
          },
          "execution_count": 64
        }
      ]
    },
    {
      "cell_type": "code",
      "metadata": {
        "id": "owGxPo7vV-KJ",
        "colab_type": "code",
        "colab": {
          "base_uri": "https://localhost:8080/",
          "height": 299
        },
        "outputId": "37652d1d-2bbe-43ac-e3ae-56dc48bd75cb"
      },
      "source": [
        "sampleNext = prime.loc[:,['Orig_amt', 'Oltv', 'Dti', 'Cscore_b', 'Fthb_flg', 'Purpose',\n",
        "       'Prop_typ', 'Num_unit', 'Occ_stat', 'Curr_rte', 'Act_upb', 'Loan_age',\n",
        "       'GDP', 'HS', 'UMP', 'PPI', 'HPI', 'flag']]\n",
        "sampleNext['Orig_amt'] = pd.cut(sampleNext['Orig_amt'], 5)\n",
        "sampleNext['Cscore_b'] = pd.cut(sampleNext['Cscore_b'], 5)\n",
        "\n",
        "\n",
        "sampleNext.head()"
      ],
      "execution_count": 94,
      "outputs": [
        {
          "output_type": "execute_result",
          "data": {
            "text/html": [
              "<div>\n",
              "<style scoped>\n",
              "    .dataframe tbody tr th:only-of-type {\n",
              "        vertical-align: middle;\n",
              "    }\n",
              "\n",
              "    .dataframe tbody tr th {\n",
              "        vertical-align: top;\n",
              "    }\n",
              "\n",
              "    .dataframe thead th {\n",
              "        text-align: right;\n",
              "    }\n",
              "</style>\n",
              "<table border=\"1\" class=\"dataframe\">\n",
              "  <thead>\n",
              "    <tr style=\"text-align: right;\">\n",
              "      <th></th>\n",
              "      <th>Orig_amt</th>\n",
              "      <th>Oltv</th>\n",
              "      <th>Dti</th>\n",
              "      <th>Cscore_b</th>\n",
              "      <th>Fthb_flg</th>\n",
              "      <th>Purpose</th>\n",
              "      <th>Prop_typ</th>\n",
              "      <th>Num_unit</th>\n",
              "      <th>Occ_stat</th>\n",
              "      <th>Curr_rte</th>\n",
              "      <th>Act_upb</th>\n",
              "      <th>Loan_age</th>\n",
              "      <th>GDP</th>\n",
              "      <th>HS</th>\n",
              "      <th>UMP</th>\n",
              "      <th>PPI</th>\n",
              "      <th>HPI</th>\n",
              "      <th>flag</th>\n",
              "    </tr>\n",
              "  </thead>\n",
              "  <tbody>\n",
              "    <tr>\n",
              "      <th>0</th>\n",
              "      <td>(24295.0, 166000.0]</td>\n",
              "      <td>71</td>\n",
              "      <td>41.0</td>\n",
              "      <td>(785.6, 798.4]</td>\n",
              "      <td>N</td>\n",
              "      <td>R</td>\n",
              "      <td>SF</td>\n",
              "      <td>1</td>\n",
              "      <td>P</td>\n",
              "      <td>4.500</td>\n",
              "      <td>105986.13</td>\n",
              "      <td>73</td>\n",
              "      <td>18219.405</td>\n",
              "      <td>1205</td>\n",
              "      <td>5.3</td>\n",
              "      <td>194.8</td>\n",
              "      <td>171.467</td>\n",
              "      <td>1</td>\n",
              "    </tr>\n",
              "    <tr>\n",
              "      <th>1</th>\n",
              "      <td>(24295.0, 166000.0]</td>\n",
              "      <td>71</td>\n",
              "      <td>41.0</td>\n",
              "      <td>(785.6, 798.4]</td>\n",
              "      <td>N</td>\n",
              "      <td>R</td>\n",
              "      <td>SF</td>\n",
              "      <td>1</td>\n",
              "      <td>P</td>\n",
              "      <td>4.500</td>\n",
              "      <td>105367.28</td>\n",
              "      <td>76</td>\n",
              "      <td>18344.713</td>\n",
              "      <td>1224</td>\n",
              "      <td>5.0</td>\n",
              "      <td>189.1</td>\n",
              "      <td>173.847</td>\n",
              "      <td>1</td>\n",
              "    </tr>\n",
              "    <tr>\n",
              "      <th>2</th>\n",
              "      <td>(24295.0, 166000.0]</td>\n",
              "      <td>71</td>\n",
              "      <td>41.0</td>\n",
              "      <td>(785.6, 798.4]</td>\n",
              "      <td>N</td>\n",
              "      <td>R</td>\n",
              "      <td>SF</td>\n",
              "      <td>1</td>\n",
              "      <td>P</td>\n",
              "      <td>4.500</td>\n",
              "      <td>104950.84</td>\n",
              "      <td>79</td>\n",
              "      <td>18350.825</td>\n",
              "      <td>1146</td>\n",
              "      <td>5.0</td>\n",
              "      <td>183.5</td>\n",
              "      <td>176.598</td>\n",
              "      <td>1</td>\n",
              "    </tr>\n",
              "    <tr>\n",
              "      <th>23</th>\n",
              "      <td>(24295.0, 166000.0]</td>\n",
              "      <td>60</td>\n",
              "      <td>38.0</td>\n",
              "      <td>(759.936, 772.8]</td>\n",
              "      <td>N</td>\n",
              "      <td>R</td>\n",
              "      <td>SF</td>\n",
              "      <td>1</td>\n",
              "      <td>P</td>\n",
              "      <td>5.000</td>\n",
              "      <td>79220.60</td>\n",
              "      <td>43</td>\n",
              "      <td>16257.151</td>\n",
              "      <td>847</td>\n",
              "      <td>7.8</td>\n",
              "      <td>204.4</td>\n",
              "      <td>142.908</td>\n",
              "      <td>0</td>\n",
              "    </tr>\n",
              "    <tr>\n",
              "      <th>27</th>\n",
              "      <td>(166000.0, 307000.0]</td>\n",
              "      <td>90</td>\n",
              "      <td>42.0</td>\n",
              "      <td>(772.8, 785.6]</td>\n",
              "      <td>N</td>\n",
              "      <td>P</td>\n",
              "      <td>CO</td>\n",
              "      <td>1</td>\n",
              "      <td>S</td>\n",
              "      <td>5.875</td>\n",
              "      <td>143959.09</td>\n",
              "      <td>97</td>\n",
              "      <td>18991.883</td>\n",
              "      <td>1267</td>\n",
              "      <td>4.7</td>\n",
              "      <td>188.2</td>\n",
              "      <td>185.790</td>\n",
              "      <td>0</td>\n",
              "    </tr>\n",
              "  </tbody>\n",
              "</table>\n",
              "</div>"
            ],
            "text/plain": [
              "                Orig_amt  Oltv   Dti  ...    PPI      HPI flag\n",
              "0    (24295.0, 166000.0]    71  41.0  ...  194.8  171.467    1\n",
              "1    (24295.0, 166000.0]    71  41.0  ...  189.1  173.847    1\n",
              "2    (24295.0, 166000.0]    71  41.0  ...  183.5  176.598    1\n",
              "23   (24295.0, 166000.0]    60  38.0  ...  204.4  142.908    0\n",
              "27  (166000.0, 307000.0]    90  42.0  ...  188.2  185.790    0\n",
              "\n",
              "[5 rows x 18 columns]"
            ]
          },
          "metadata": {
            "tags": []
          },
          "execution_count": 94
        }
      ]
    },
    {
      "cell_type": "code",
      "metadata": {
        "id": "llCh5iyMZPH-",
        "colab_type": "code",
        "colab": {}
      },
      "source": [
        "sampledes = sampleNext.describe()\n",
        "#standardlized some of the Macro(equal scale & converge problem)\n",
        "sampleNext['GDP'] = sampleNext['GDP'].map(lambda x: (x - sampledes['GDP']['mean'])/sampledes['GDP']['std'])\n",
        "sampleNext['HS'] = sampleNext['HS'].map(lambda x: (x - sampledes['HS']['mean'])/sampledes['HS']['std'])"
      ],
      "execution_count": 95,
      "outputs": []
    },
    {
      "cell_type": "code",
      "metadata": {
        "id": "HQHwxFCTeFf3",
        "colab_type": "code",
        "colab": {}
      },
      "source": [
        "sampleNext['HPI'] = sampleNext['HPI'].map(lambda x: (x - sampledes['HPI']['mean'])/sampledes['HPI']['std'])"
      ],
      "execution_count": 96,
      "outputs": []
    },
    {
      "cell_type": "code",
      "metadata": {
        "id": "xb4vWVIfZf10",
        "colab_type": "code",
        "colab": {}
      },
      "source": [
        "sampleNext['GDP'] = pd.cut(sampleNext['GDP'], 5)\n",
        "#sampleNext['HS'] = pd.cut(sampleNext['HS'], 5)\n",
        "#sampleNext['UMP'] = pd.cut(sampleNext['UMP'], 5)\n",
        "sampleNext['HPI'] = pd.cut(sampleNext['HPI'], 5)"
      ],
      "execution_count": 68,
      "outputs": []
    },
    {
      "cell_type": "code",
      "metadata": {
        "id": "nb833bWCXt28",
        "colab_type": "code",
        "colab": {}
      },
      "source": [
        "sampleNext=sampleNext.drop([ 'Fthb_flg', 'Purpose', 'Num_unit', 'Occ_stat', 'Loan_age','PPI' ], axis=1)"
      ],
      "execution_count": 97,
      "outputs": []
    },
    {
      "cell_type": "code",
      "metadata": {
        "id": "K1AhGJr6cO-r",
        "colab_type": "code",
        "colab": {}
      },
      "source": [
        "sampleNext=sampleNext.drop(['HS','UMP' ], axis=1)"
      ],
      "execution_count": 98,
      "outputs": []
    },
    {
      "cell_type": "code",
      "metadata": {
        "id": "xN8O8J0UeOCD",
        "colab_type": "code",
        "colab": {}
      },
      "source": [
        "sampleNext=sampleNext.drop(['Act_upb' ], axis=1)"
      ],
      "execution_count": 99,
      "outputs": []
    },
    {
      "cell_type": "code",
      "metadata": {
        "id": "fGbG8xBhYXPk",
        "colab_type": "code",
        "colab": {
          "base_uri": "https://localhost:8080/",
          "height": 67
        },
        "outputId": "57543ad2-2db0-4354-baaa-60f396e9b1d7"
      },
      "source": [
        "sampleNext.columns"
      ],
      "execution_count": 100,
      "outputs": [
        {
          "output_type": "execute_result",
          "data": {
            "text/plain": [
              "Index(['Orig_amt', 'Oltv', 'Dti', 'Cscore_b', 'Prop_typ', 'Curr_rte', 'GDP',\n",
              "       'HPI', 'flag'],\n",
              "      dtype='object')"
            ]
          },
          "metadata": {
            "tags": []
          },
          "execution_count": 100
        }
      ]
    },
    {
      "cell_type": "code",
      "metadata": {
        "id": "R6qlQYhoYfCO",
        "colab_type": "code",
        "colab": {}
      },
      "source": [
        "\n",
        "columns = ['Orig_amt', 'Cscore_b', 'Prop_typ']\n",
        "for col in columns:\n",
        "  dum = pd.get_dummies(sampleNext[col], prefix = col)\n",
        "  sampleNext = pd.concat([sampleNext, dum], axis = 1)\n",
        "\n",
        "sampleNext = sampleNext.drop(columns,axis = 1)\n"
      ],
      "execution_count": 101,
      "outputs": []
    },
    {
      "cell_type": "code",
      "metadata": {
        "id": "F-6rGjqEc0Mx",
        "colab_type": "code",
        "colab": {
          "base_uri": "https://localhost:8080/",
          "height": 232
        },
        "outputId": "f219b163-7b6a-466d-b103-b6b97a7c2d0b"
      },
      "source": [
        "sampleNext.head()"
      ],
      "execution_count": 102,
      "outputs": [
        {
          "output_type": "execute_result",
          "data": {
            "text/html": [
              "<div>\n",
              "<style scoped>\n",
              "    .dataframe tbody tr th:only-of-type {\n",
              "        vertical-align: middle;\n",
              "    }\n",
              "\n",
              "    .dataframe tbody tr th {\n",
              "        vertical-align: top;\n",
              "    }\n",
              "\n",
              "    .dataframe thead th {\n",
              "        text-align: right;\n",
              "    }\n",
              "</style>\n",
              "<table border=\"1\" class=\"dataframe\">\n",
              "  <thead>\n",
              "    <tr style=\"text-align: right;\">\n",
              "      <th></th>\n",
              "      <th>Oltv</th>\n",
              "      <th>Dti</th>\n",
              "      <th>Curr_rte</th>\n",
              "      <th>GDP</th>\n",
              "      <th>HPI</th>\n",
              "      <th>flag</th>\n",
              "      <th>Orig_amt_(24295.0, 166000.0]</th>\n",
              "      <th>Orig_amt_(166000.0, 307000.0]</th>\n",
              "      <th>Orig_amt_(307000.0, 448000.0]</th>\n",
              "      <th>Orig_amt_(448000.0, 589000.0]</th>\n",
              "      <th>Orig_amt_(589000.0, 730000.0]</th>\n",
              "      <th>Cscore_b_(759.936, 772.8]</th>\n",
              "      <th>Cscore_b_(772.8, 785.6]</th>\n",
              "      <th>Cscore_b_(785.6, 798.4]</th>\n",
              "      <th>Cscore_b_(798.4, 811.2]</th>\n",
              "      <th>Cscore_b_(811.2, 824.0]</th>\n",
              "      <th>Prop_typ_CO</th>\n",
              "      <th>Prop_typ_CP</th>\n",
              "      <th>Prop_typ_MH</th>\n",
              "      <th>Prop_typ_PU</th>\n",
              "      <th>Prop_typ_SF</th>\n",
              "    </tr>\n",
              "  </thead>\n",
              "  <tbody>\n",
              "    <tr>\n",
              "      <th>0</th>\n",
              "      <td>71</td>\n",
              "      <td>41.0</td>\n",
              "      <td>4.500</td>\n",
              "      <td>0.059238</td>\n",
              "      <td>-0.095374</td>\n",
              "      <td>1</td>\n",
              "      <td>1</td>\n",
              "      <td>0</td>\n",
              "      <td>0</td>\n",
              "      <td>0</td>\n",
              "      <td>0</td>\n",
              "      <td>0</td>\n",
              "      <td>0</td>\n",
              "      <td>1</td>\n",
              "      <td>0</td>\n",
              "      <td>0</td>\n",
              "      <td>0</td>\n",
              "      <td>0</td>\n",
              "      <td>0</td>\n",
              "      <td>0</td>\n",
              "      <td>1</td>\n",
              "    </tr>\n",
              "    <tr>\n",
              "      <th>1</th>\n",
              "      <td>71</td>\n",
              "      <td>41.0</td>\n",
              "      <td>4.500</td>\n",
              "      <td>0.119369</td>\n",
              "      <td>0.004934</td>\n",
              "      <td>1</td>\n",
              "      <td>1</td>\n",
              "      <td>0</td>\n",
              "      <td>0</td>\n",
              "      <td>0</td>\n",
              "      <td>0</td>\n",
              "      <td>0</td>\n",
              "      <td>0</td>\n",
              "      <td>1</td>\n",
              "      <td>0</td>\n",
              "      <td>0</td>\n",
              "      <td>0</td>\n",
              "      <td>0</td>\n",
              "      <td>0</td>\n",
              "      <td>0</td>\n",
              "      <td>1</td>\n",
              "    </tr>\n",
              "    <tr>\n",
              "      <th>2</th>\n",
              "      <td>71</td>\n",
              "      <td>41.0</td>\n",
              "      <td>4.500</td>\n",
              "      <td>0.122302</td>\n",
              "      <td>0.120878</td>\n",
              "      <td>1</td>\n",
              "      <td>1</td>\n",
              "      <td>0</td>\n",
              "      <td>0</td>\n",
              "      <td>0</td>\n",
              "      <td>0</td>\n",
              "      <td>0</td>\n",
              "      <td>0</td>\n",
              "      <td>1</td>\n",
              "      <td>0</td>\n",
              "      <td>0</td>\n",
              "      <td>0</td>\n",
              "      <td>0</td>\n",
              "      <td>0</td>\n",
              "      <td>0</td>\n",
              "      <td>1</td>\n",
              "    </tr>\n",
              "    <tr>\n",
              "      <th>23</th>\n",
              "      <td>60</td>\n",
              "      <td>38.0</td>\n",
              "      <td>5.000</td>\n",
              "      <td>-0.882369</td>\n",
              "      <td>-1.299025</td>\n",
              "      <td>0</td>\n",
              "      <td>1</td>\n",
              "      <td>0</td>\n",
              "      <td>0</td>\n",
              "      <td>0</td>\n",
              "      <td>0</td>\n",
              "      <td>1</td>\n",
              "      <td>0</td>\n",
              "      <td>0</td>\n",
              "      <td>0</td>\n",
              "      <td>0</td>\n",
              "      <td>0</td>\n",
              "      <td>0</td>\n",
              "      <td>0</td>\n",
              "      <td>0</td>\n",
              "      <td>1</td>\n",
              "    </tr>\n",
              "    <tr>\n",
              "      <th>27</th>\n",
              "      <td>90</td>\n",
              "      <td>42.0</td>\n",
              "      <td>5.875</td>\n",
              "      <td>0.429920</td>\n",
              "      <td>0.508285</td>\n",
              "      <td>0</td>\n",
              "      <td>0</td>\n",
              "      <td>1</td>\n",
              "      <td>0</td>\n",
              "      <td>0</td>\n",
              "      <td>0</td>\n",
              "      <td>0</td>\n",
              "      <td>1</td>\n",
              "      <td>0</td>\n",
              "      <td>0</td>\n",
              "      <td>0</td>\n",
              "      <td>1</td>\n",
              "      <td>0</td>\n",
              "      <td>0</td>\n",
              "      <td>0</td>\n",
              "      <td>0</td>\n",
              "    </tr>\n",
              "  </tbody>\n",
              "</table>\n",
              "</div>"
            ],
            "text/plain": [
              "    Oltv   Dti  Curr_rte  ...  Prop_typ_MH  Prop_typ_PU Prop_typ_SF\n",
              "0     71  41.0     4.500  ...            0            0           1\n",
              "1     71  41.0     4.500  ...            0            0           1\n",
              "2     71  41.0     4.500  ...            0            0           1\n",
              "23    60  38.0     5.000  ...            0            0           1\n",
              "27    90  42.0     5.875  ...            0            0           0\n",
              "\n",
              "[5 rows x 21 columns]"
            ]
          },
          "metadata": {
            "tags": []
          },
          "execution_count": 102
        }
      ]
    },
    {
      "cell_type": "code",
      "metadata": {
        "id": "pLgoET_XdBbW",
        "colab_type": "code",
        "colab": {
          "base_uri": "https://localhost:8080/",
          "height": 1000
        },
        "outputId": "11ec5ee6-c778-45c9-b32c-1bbcc6bbf04c"
      },
      "source": [
        "#Logistic Regression\n",
        "sampleNext = sampleNext.dropna()\n",
        "dy1 = sampleNext['flag']\n",
        "dx1 = sampleNext.drop(['flag'],axis = 1)\n",
        "import statsmodels.api as st\n",
        "mdl = st.MNLogit(dy1, dx1)\n",
        "mdl_fit = mdl.fit()\n",
        "print (mdl_fit.summary())"
      ],
      "execution_count": 103,
      "outputs": [
        {
          "output_type": "stream",
          "text": [
            "Warning: Maximum number of iterations has been exceeded.\n",
            "         Current function value: 0.928532\n",
            "         Iterations: 35\n"
          ],
          "name": "stdout"
        },
        {
          "output_type": "stream",
          "text": [
            "/usr/local/lib/python3.6/dist-packages/statsmodels/base/model.py:512: ConvergenceWarning: Maximum Likelihood optimization failed to converge. Check mle_retvals\n",
            "  \"Check mle_retvals\", ConvergenceWarning)\n",
            "/usr/local/lib/python3.6/dist-packages/statsmodels/discrete/discrete_model.py:4112: RuntimeWarning: invalid value encountered in sqrt\n",
            "  bse = np.sqrt(np.diag(self.cov_params()))\n",
            "/usr/local/lib/python3.6/dist-packages/scipy/stats/_distn_infrastructure.py:903: RuntimeWarning: invalid value encountered in greater\n",
            "  return (a < x) & (x < b)\n",
            "/usr/local/lib/python3.6/dist-packages/scipy/stats/_distn_infrastructure.py:903: RuntimeWarning: invalid value encountered in less\n",
            "  return (a < x) & (x < b)\n",
            "/usr/local/lib/python3.6/dist-packages/scipy/stats/_distn_infrastructure.py:1912: RuntimeWarning: invalid value encountered in less_equal\n",
            "  cond2 = cond0 & (x <= _a)\n"
          ],
          "name": "stderr"
        },
        {
          "output_type": "stream",
          "text": [
            "                          MNLogit Regression Results                          \n",
            "==============================================================================\n",
            "Dep. Variable:                   flag   No. Observations:                 2212\n",
            "Model:                        MNLogit   Df Residuals:                     2158\n",
            "Method:                           MLE   Df Model:                           51\n",
            "Date:                Fri, 26 Jun 2020   Pseudo R-squ.:                 0.07273\n",
            "Time:                        11:56:23   Log-Likelihood:                -2053.9\n",
            "converged:                      False   LL-Null:                       -2215.0\n",
            "Covariance Type:            nonrobust   LLR p-value:                 4.945e-41\n",
            "=================================================================================================\n",
            "                       flag=0       coef    std err          z      P>|z|      [0.025      0.975]\n",
            "-------------------------------------------------------------------------------------------------\n",
            "Oltv                              0.0089      0.006      1.585      0.113      -0.002       0.020\n",
            "Dti                               0.0066      0.010      0.662      0.508      -0.013       0.026\n",
            "Curr_rte                         -0.4498      0.138     -3.252      0.001      -0.721      -0.179\n",
            "GDP                              -0.0866      0.353     -0.245      0.806      -0.778       0.605\n",
            "HPI                              -0.0011      0.337     -0.003      0.997      -0.662       0.659\n",
            "Orig_amt_(24295.0, 166000.0]     24.8728   4.84e+06   5.14e-06      1.000   -9.49e+06    9.49e+06\n",
            "Orig_amt_(166000.0, 307000.0]    25.4595   4.84e+06   5.26e-06      1.000   -9.49e+06    9.49e+06\n",
            "Orig_amt_(307000.0, 448000.0]    24.9928   4.81e+06    5.2e-06      1.000   -9.42e+06    9.42e+06\n",
            "Orig_amt_(448000.0, 589000.0]    24.6527   4.76e+06   5.18e-06      1.000   -9.33e+06    9.33e+06\n",
            "Orig_amt_(589000.0, 730000.0]    24.5502   4.81e+06    5.1e-06      1.000   -9.43e+06    9.43e+06\n",
            "Cscore_b_(759.936, 772.8]       -16.7715   2.88e+06  -5.82e-06      1.000   -5.65e+06    5.65e+06\n",
            "Cscore_b_(772.8, 785.6]         -17.2292   2.91e+06  -5.91e-06      1.000   -5.71e+06    5.71e+06\n",
            "Cscore_b_(785.6, 798.4]         -16.9900   2.93e+06   -5.8e-06      1.000   -5.74e+06    5.74e+06\n",
            "Cscore_b_(798.4, 811.2]         -17.4333   2.94e+06  -5.93e-06      1.000   -5.76e+06    5.76e+06\n",
            "Cscore_b_(811.2, 824.0]         -17.6126   2.99e+06  -5.89e-06      1.000   -5.86e+06    5.86e+06\n",
            "Prop_typ_CO                      -4.6650        nan        nan        nan         nan         nan\n",
            "Prop_typ_CP                      -3.3415        nan        nan        nan         nan         nan\n",
            "Prop_typ_MH                      12.5794        nan        nan        nan         nan         nan\n",
            "Prop_typ_PU                      -4.4281        nan        nan        nan         nan         nan\n",
            "Prop_typ_SF                      -4.1103        nan        nan        nan         nan         nan\n",
            "-------------------------------------------------------------------------------------------------\n",
            "                       flag=1       coef    std err          z      P>|z|      [0.025      0.975]\n",
            "-------------------------------------------------------------------------------------------------\n",
            "Oltv                              0.0198      0.006      3.297      0.001       0.008       0.032\n",
            "Dti                               0.0305      0.011      2.873      0.004       0.010       0.051\n",
            "Curr_rte                         -0.0718      0.145     -0.497      0.619      -0.355       0.211\n",
            "GDP                               0.6527      0.379      1.723      0.085      -0.090       1.395\n",
            "HPI                              -0.3322      0.361     -0.919      0.358      -1.041       0.376\n",
            "Orig_amt_(24295.0, 166000.0]      5.0634   1.78e+06   2.84e-06      1.000    -3.5e+06     3.5e+06\n",
            "Orig_amt_(166000.0, 307000.0]     5.6344   1.78e+06   3.17e-06      1.000   -3.48e+06    3.48e+06\n",
            "Orig_amt_(307000.0, 448000.0]     4.8685   1.75e+06   2.78e-06      1.000   -3.43e+06    3.43e+06\n",
            "Orig_amt_(448000.0, 589000.0]     3.9889   1.75e+06   2.29e-06      1.000   -3.42e+06    3.42e+06\n",
            "Orig_amt_(589000.0, 730000.0]   -14.5647    1.8e+06  -8.08e-06      1.000   -3.53e+06    3.53e+06\n",
            "Cscore_b_(759.936, 772.8]        -0.5929        nan        nan        nan         nan         nan\n",
            "Cscore_b_(772.8, 785.6]          -1.3991        nan        nan        nan         nan         nan\n",
            "Cscore_b_(785.6, 798.4]          -1.0115        nan        nan        nan         nan         nan\n",
            "Cscore_b_(798.4, 811.2]          -1.8538        nan        nan        nan         nan         nan\n",
            "Cscore_b_(811.2, 824.0]          -2.4270        nan        nan        nan         nan         nan\n",
            "Prop_typ_CO                      -4.8364        nan        nan        nan         nan         nan\n",
            "Prop_typ_CP                      -4.4933        nan        nan        nan         nan         nan\n",
            "Prop_typ_MH                      12.7661        nan        nan        nan         nan         nan\n",
            "Prop_typ_PU                      -4.7548        nan        nan        nan         nan         nan\n",
            "Prop_typ_SF                      -4.1463        nan        nan        nan         nan         nan\n",
            "-------------------------------------------------------------------------------------------------\n",
            "                       flag=2       coef    std err          z      P>|z|      [0.025      0.975]\n",
            "-------------------------------------------------------------------------------------------------\n",
            "Oltv                              0.0355      0.009      4.054      0.000       0.018       0.053\n",
            "Dti                               0.0212      0.013      1.654      0.098      -0.004       0.046\n",
            "Curr_rte                          0.2205      0.175      1.262      0.207      -0.122       0.563\n",
            "GDP                               0.5283      0.437      1.208      0.227      -0.329       1.385\n",
            "HPI                              -0.8872      0.414     -2.143      0.032      -1.699      -0.076\n",
            "Orig_amt_(24295.0, 166000.0]      2.4014   4.39e+06   5.47e-07      1.000   -8.61e+06    8.61e+06\n",
            "Orig_amt_(166000.0, 307000.0]     2.9405   4.44e+06   6.62e-07      1.000   -8.71e+06    8.71e+06\n",
            "Orig_amt_(307000.0, 448000.0]     2.9237   4.44e+06   6.58e-07      1.000   -8.71e+06    8.71e+06\n",
            "Orig_amt_(448000.0, 589000.0]     1.1584   4.58e+06   2.53e-07      1.000   -8.99e+06    8.99e+06\n",
            "Orig_amt_(589000.0, 730000.0]   -18.7198   4.44e+06  -4.21e-06      1.000   -8.71e+06    8.71e+06\n",
            "Cscore_b_(759.936, 772.8]        -1.7115   3.34e+06  -5.12e-07      1.000   -6.55e+06    6.55e+06\n",
            "Cscore_b_(772.8, 785.6]          -2.0468   3.37e+06  -6.07e-07      1.000   -6.61e+06    6.61e+06\n",
            "Cscore_b_(785.6, 798.4]          -1.7462   3.37e+06  -5.18e-07      1.000   -6.61e+06    6.61e+06\n",
            "Cscore_b_(798.4, 811.2]          -1.9952   3.34e+06  -5.97e-07      1.000   -6.55e+06    6.55e+06\n",
            "Cscore_b_(811.2, 824.0]          -1.7961   3.31e+06  -5.43e-07      1.000   -6.49e+06    6.49e+06\n",
            "Prop_typ_CO                      -5.0510    3.3e+06  -1.53e-06      1.000   -6.48e+06    6.48e+06\n",
            "Prop_typ_CP                      -5.2043    3.3e+06  -1.58e-06      1.000   -6.48e+06    6.48e+06\n",
            "Prop_typ_MH                      11.3682    3.3e+06   3.44e-06      1.000   -6.48e+06    6.48e+06\n",
            "Prop_typ_PU                      -5.5022    3.3e+06  -1.67e-06      1.000   -6.48e+06    6.48e+06\n",
            "Prop_typ_SF                      -4.9065    3.3e+06  -1.48e-06      1.000   -6.48e+06    6.48e+06\n",
            "=================================================================================================\n"
          ],
          "name": "stdout"
        }
      ]
    },
    {
      "cell_type": "code",
      "metadata": {
        "id": "VNiBiuT-PyaW",
        "colab_type": "code",
        "colab": {
          "base_uri": "https://localhost:8080/",
          "height": 322
        },
        "outputId": "26044ce2-9cfa-4f68-b700-bc80795032a0"
      },
      "source": [
        "from sklearn.model_selection import train_test_split\n",
        "from sklearn.linear_model import LogisticRegression\n",
        "from sklearn.linear_model import LogisticRegressionCV\n",
        "from statsmodels.stats.outliers_influence import variance_inflation_factor\n",
        "from sklearn.metrics import multilabel_confusion_matrix\n",
        "from sklearn.metrics import f1_score\n",
        "from sklearn.metrics import precision_recall_fscore_support\n",
        "from sklearn import preprocessing\n",
        "import statsmodels.api as sm\n",
        "from sklearn.linear_model import ridge_regression\n",
        "#dx = sampleNext.drop(['NLDS','Lumberprice','new housing','HPI','unemployment rate','Rental Vacancy Rate','Vacant Housing Units for Sale'],axis = 1)\n",
        "dx = dx.astype('float32') #string-->float\n",
        "\n",
        "meandx = pd.DataFrame(dx.mean()).T\n",
        "# np.corrcoef(dx)\n",
        "regressor = LogisticRegression(multi_class='multinomial', solver='saga',penalty='l1', max_iter=500)\n",
        "regressor.fit(dx,dy)\n",
        "#regressorcv = LogisticRegressionCV(cv = 5,multi_class='multinomial').fit(dx,dy)\n",
        "regressor2 = sm.MNLogit(endog=dy,exog=dx)\n",
        "regressor2result = regressor2.fit()\n",
        "regressor2result.summary()\n",
        "\n",
        "results_summary = regressor2result.summary()\n",
        "results_as_html = results_summary.tables[1].as_html()\n",
        "abc = pd.read_html(results_as_html, header = 0, index_col =0)[0]\n",
        "abc.to_html('CUR_sub1.html')\n"
      ],
      "execution_count": 40,
      "outputs": [
        {
          "output_type": "stream",
          "text": [
            "/usr/local/lib/python3.6/dist-packages/sklearn/linear_model/_sag.py:330: ConvergenceWarning: The max_iter was reached which means the coef_ did not converge\n",
            "  \"the coef_ did not converge\", ConvergenceWarning)\n",
            "/usr/local/lib/python3.6/dist-packages/statsmodels/discrete/discrete_model.py:2195: RuntimeWarning: overflow encountered in exp\n",
            "  eXB = np.column_stack((np.ones(len(X)), np.exp(X)))\n",
            "/usr/local/lib/python3.6/dist-packages/statsmodels/discrete/discrete_model.py:2196: RuntimeWarning: invalid value encountered in true_divide\n",
            "  return eXB/eXB.sum(1)[:,None]\n",
            "/usr/local/lib/python3.6/dist-packages/statsmodels/base/optimizer.py:299: RuntimeWarning: invalid value encountered in greater\n",
            "  oldparams) > tol)):\n"
          ],
          "name": "stderr"
        },
        {
          "output_type": "stream",
          "text": [
            "Optimization terminated successfully.\n",
            "         Current function value: nan\n",
            "         Iterations 21\n"
          ],
          "name": "stdout"
        },
        {
          "output_type": "stream",
          "text": [
            "/usr/local/lib/python3.6/dist-packages/scipy/stats/_distn_infrastructure.py:903: RuntimeWarning: invalid value encountered in greater\n",
            "  return (a < x) & (x < b)\n",
            "/usr/local/lib/python3.6/dist-packages/scipy/stats/_distn_infrastructure.py:903: RuntimeWarning: invalid value encountered in less\n",
            "  return (a < x) & (x < b)\n",
            "/usr/local/lib/python3.6/dist-packages/scipy/stats/_distn_infrastructure.py:1912: RuntimeWarning: invalid value encountered in less_equal\n",
            "  cond2 = cond0 & (x <= _a)\n"
          ],
          "name": "stderr"
        }
      ]
    },
    {
      "cell_type": "code",
      "metadata": {
        "id": "VCLuc3V22g2b",
        "colab_type": "code",
        "colab": {}
      },
      "source": [
        ""
      ],
      "execution_count": null,
      "outputs": []
    }
  ]
}